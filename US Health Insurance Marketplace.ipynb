{
 "cells": [
  {
   "cell_type": "markdown",
   "metadata": {},
   "source": [
    "# Project Title\n",
    "# Report on U.S. Health Insurance Marketplace "
   ]
  },
  {
   "cell_type": "markdown",
   "metadata": {},
   "source": [
    "## Instruction"
   ]
  },
  {
   "cell_type": "markdown",
   "metadata": {},
   "source": [
    "### The datasets I used in this report contain data on health and dental plans offered to individuals and small businesses through the US Health Insurance Marketplace. This data was originally prepared and released by the Centers for Medicare & Medicaid Services (CMS), which is part of the U.S. Department of Health and Human Services (HHS). In this report I try to find some useful information to support the CMS work. You can watch a short video to get to know about CMS's work, mission, and vision. Please find the data dictionary for this report in the attached document."
   ]
  },
  {
   "cell_type": "code",
   "execution_count": 1,
   "metadata": {
    "collapsed": false
   },
   "outputs": [
    {
     "data": {
      "text/html": [
       "\n",
       "        <iframe\n",
       "            width=\"400\"\n",
       "            height=\"300\"\n",
       "            src=\"https://www.youtube.com/embed/Kahh9MO8lYE\"\n",
       "            frameborder=\"0\"\n",
       "            allowfullscreen\n",
       "        ></iframe>\n",
       "        "
      ],
      "text/plain": [
       "<IPython.lib.display.YouTubeVideo at 0x43c8cf8>"
      ]
     },
     "execution_count": 1,
     "metadata": {},
     "output_type": "execute_result"
    }
   ],
   "source": [
    "from IPython.display import YouTubeVideo\n",
    "YouTubeVideo('Kahh9MO8lYE')"
   ]
  },
  {
   "cell_type": "markdown",
   "metadata": {},
   "source": [
    "#### Make a summary to introduce our dataset background by Python. (NLP)"
   ]
  },
  {
   "cell_type": "code",
   "execution_count": 2,
   "metadata": {
    "collapsed": true
   },
   "outputs": [],
   "source": [
    "import os\n",
    "import sys\n",
    "import json\n",
    "#import feedparser\n",
    "import requests\n",
    "import pandas as pd\n",
    "from nltk import clean_html\n",
    "import urllib2\n",
    "from bs4 import BeautifulSoup as bs\n",
    "\n",
    "massey_proxies = {\n",
    "  \"http\": \"http://alb-cache.massey.ac.nz/\",\n",
    "  \"https\": \"http://alb-cache.massey.ac.nz/\",\n",
    "}"
   ]
  },
  {
   "cell_type": "code",
   "execution_count": 3,
   "metadata": {
    "collapsed": true
   },
   "outputs": [],
   "source": [
    "import nltk"
   ]
  },
  {
   "cell_type": "code",
   "execution_count": 4,
   "metadata": {
    "collapsed": false
   },
   "outputs": [
    {
     "name": "stdout",
     "output_type": "stream",
     "text": [
      "showing info https://raw.githubusercontent.com/nltk/nltk_data/gh-pages/index.xml\n"
     ]
    },
    {
     "data": {
      "text/plain": [
       "True"
      ]
     },
     "execution_count": 4,
     "metadata": {},
     "output_type": "execute_result"
    }
   ],
   "source": [
    "nltk.download()"
   ]
  },
  {
   "cell_type": "code",
   "execution_count": 5,
   "metadata": {
    "collapsed": false
   },
   "outputs": [
    {
     "data": {
      "text/html": [
       "<iframe src=https://www.cms.gov/cciio/resources/data-resources/marketplace-puf.html width=1000 height=350></iframe>"
      ],
      "text/plain": [
       "<IPython.core.display.HTML object>"
      ]
     },
     "execution_count": 5,
     "metadata": {},
     "output_type": "execute_result"
    }
   ],
   "source": [
    "from IPython.core.display import HTML\n",
    "HTML(\"<iframe src=https://www.cms.gov/cciio/resources/data-resources/marketplace-puf.html width=1000 height=350></iframe>\")"
   ]
  },
  {
   "cell_type": "code",
   "execution_count": 6,
   "metadata": {
    "collapsed": false
   },
   "outputs": [],
   "source": [
    "HTML_PAGE = 'https://www.cms.gov/cciio/resources/data-resources/marketplace-puf.html'\n",
    "response = requests.get(HTML_PAGE)\n",
    "page = response.content"
   ]
  },
  {
   "cell_type": "markdown",
   "metadata": {},
   "source": [
    "#### Clean text:"
   ]
  },
  {
   "cell_type": "code",
   "execution_count": 7,
   "metadata": {
    "collapsed": false,
    "scrolled": true
   },
   "outputs": [
    {
     "data": {
      "text/plain": [
       "'The Centers for Medicare & Medicaid Services (CMS) Center for Consumer Information and Insurance Oversight (CCIIO) is committed to increasing transparency in the Health Insurance Marketplace. While health plan information including benefits, copayments, premiums, and geographic coverage is publically available on Healthcare.gov, CMS has also released downloadable public use files (PUFs) so that researchers and other stakeholders can more easily access Marketplace data.The Health Insurance Marketplace Public Use Files (Marketplace PUFs) are available for plan years 2014 through 2017 to support timely benefit and rate analysis. It is important to note that the 2017 Marketplace PUFs will be updated regularly to reflect the plan data that consumers will see when shopping for a Marketplace Qualified Health Plan (QHP). Data for the 2017 Marketplace PUFs were imported to CMS systems onDecember 8, 2016.The Marketplace PUFs include plan and issuer level information for certified Qualified Healt'"
      ]
     },
     "execution_count": 7,
     "metadata": {},
     "output_type": "execute_result"
    }
   ],
   "source": [
    "bs_object = bs(page, \"lxml\")  \n",
    "raw = bs_object.get_text()\n",
    "start = raw.find('The Centers for Medicare')\n",
    "end = raw.find(' formulary information')\n",
    "cleaned = raw[start : end + len(' formulary information')]\n",
    "cleaned_article = cleaned.replace('\\n', '')\n",
    "cleaned_str = cleaned_article.encode('ascii','ignore')\n",
    "from nltk.tokenize import RegexpTokenizer\n",
    "tokenizer = RegexpTokenizer('\\w+')\n",
    "cleaned_str[:1000]"
   ]
  },
  {
   "cell_type": "markdown",
   "metadata": {},
   "source": [
    "#### Text summarization "
   ]
  },
  {
   "cell_type": "code",
   "execution_count": 8,
   "metadata": {
    "collapsed": true
   },
   "outputs": [],
   "source": [
    "import sys\n",
    "import json\n",
    "import nltk\n",
    "import numpy\n",
    "\n",
    "N = 50  # Number of words to consider\n",
    "CLUSTER_THRESHOLD = 5  # Distance between words to consider\n",
    "TOP_SENTENCES = 3  # Number of sentences to return for a \"top n\" summary\n",
    "\n",
    "# Approach taken from \"The Automatic Creation of Literature Abstracts\" by H.P. Luhn\n",
    "\n",
    "def _score_sentences(sentences, important_words):\n",
    "    scores = []\n",
    "    sentence_idx = -1\n",
    "\n",
    "    for s in [nltk.tokenize.word_tokenize(s) for s in sentences]:\n",
    "\n",
    "        sentence_idx += 1\n",
    "        word_idx = []\n",
    "\n",
    "        # For each word in the word list...\n",
    "        for w in important_words:\n",
    "            try:\n",
    "                # Compute an index for where any important words occur in the sentence\n",
    "                word_idx.append(s.index(w))\n",
    "            except ValueError, e: # w not in this particular sentence\n",
    "                pass\n",
    "\n",
    "        word_idx.sort()\n",
    "\n",
    "        # It is possible that some sentences may not contain any important words at all\n",
    "        if len(word_idx)== 0: continue\n",
    "\n",
    "        # Using the word index, compute clusters by using a max distance threshold\n",
    "        # for any two consecutive words\n",
    "\n",
    "        clusters = []\n",
    "        cluster = [word_idx[0]]\n",
    "        i = 1\n",
    "        while i < len(word_idx):\n",
    "            if word_idx[i] - word_idx[i - 1] < CLUSTER_THRESHOLD:\n",
    "                cluster.append(word_idx[i])\n",
    "            else:\n",
    "                clusters.append(cluster[:])\n",
    "                cluster = [word_idx[i]]\n",
    "            i += 1\n",
    "        clusters.append(cluster)\n",
    "\n",
    "        # Score each cluster. The max score for any given cluster is the score \n",
    "        # for the sentence\n",
    "\n",
    "        max_cluster_score = 0\n",
    "        for c in clusters:\n",
    "            significant_words_in_cluster = len(c)\n",
    "            total_words_in_cluster = c[-1] - c[0] + 1\n",
    "            score = 1.0 * significant_words_in_cluster \\\n",
    "                * significant_words_in_cluster / total_words_in_cluster\n",
    "\n",
    "            if score > max_cluster_score:\n",
    "                max_cluster_score = score\n",
    "\n",
    "        scores.append((sentence_idx, score))\n",
    "\n",
    "    return scores"
   ]
  },
  {
   "cell_type": "code",
   "execution_count": 9,
   "metadata": {
    "collapsed": true
   },
   "outputs": [],
   "source": [
    "def summarize(txt):\n",
    "    sentences = [s for s in nltk.tokenize.sent_tokenize(txt)]\n",
    "    normalized_sentences = [s.lower() for s in sentences]\n",
    "\n",
    "    words = [w.lower() for sentence in normalized_sentences for w in\n",
    "             nltk.tokenize.word_tokenize(sentence)]\n",
    "\n",
    "    fdist = nltk.FreqDist(words)\n",
    "\n",
    "    top_n_words = [w[0] for w in fdist.items() \n",
    "            if w[0] not in nltk.corpus.stopwords.words('english')][:N]\n",
    "\n",
    "    scored_sentences = _score_sentences(normalized_sentences, top_n_words)\n",
    "\n",
    "    # Summaization Approach 1:\n",
    "    # Filter out non-significant sentences by using the average score plus a\n",
    "    # fraction of the std dev as a filter\n",
    "\n",
    "    avg = numpy.mean([s[1] for s in scored_sentences])\n",
    "    std = numpy.std([s[1] for s in scored_sentences])\n",
    "    mean_scored = [(sent_idx, score) for (sent_idx, score) in scored_sentences\n",
    "                   if score > avg + 0.5 * std]\n",
    "\n",
    "    # Summarization Approach 2:\n",
    "    # Another approach would be to return only the top N ranked sentences\n",
    "\n",
    "    top_n_scored = sorted(scored_sentences, key=lambda s: s[1])[-TOP_SENTENCES:]\n",
    "    top_n_scored = sorted(top_n_scored, key=lambda s: s[0])\n",
    "\n",
    "    # Decorate the post object with summaries\n",
    "\n",
    "    return dict(top_n_summary=[sentences[idx] for (idx, score) in top_n_scored],\n",
    "                mean_scored_summary=[sentences[idx] for (idx, score) in mean_scored])"
   ]
  },
  {
   "cell_type": "markdown",
   "metadata": {},
   "source": [
    "#### Summary:"
   ]
  },
  {
   "cell_type": "code",
   "execution_count": 10,
   "metadata": {
    "collapsed": false
   },
   "outputs": [
    {
     "name": "stdout",
     "output_type": "stream",
     "text": [
      "['The Centers for Medicare & Medicaid Services (CMS) Center for Consumer Information and Insurance Oversight (CCIIO) is committed to increasing transparency in the Health Insurance Marketplace.', 'While health plan information including benefits, copayments, premiums, and geographic coverage is publically available on Healthcare.gov, CMS has also released downloadable public use files (PUFs) so that researchers and other stakeholders can more easily access Marketplace data.The Health Insurance Marketplace Public Use Files (Marketplace PUFs) are available for plan years 2014 through 2017 to support timely benefit and rate analysis.', 'It is important to note that the 2017 Marketplace PUFs will be updated regularly to reflect the plan data that consumers will see when shopping for a Marketplace Qualified Health Plan (QHP).']\n",
      "3\n"
     ]
    }
   ],
   "source": [
    "print summarize(cleaned_str)['top_n_summary']\n",
    "print len(summarize(cleaned_str)['top_n_summary'])"
   ]
  },
  {
   "cell_type": "markdown",
   "metadata": {},
   "source": [
    "## 1. Data Wrangling"
   ]
  },
  {
   "cell_type": "markdown",
   "metadata": {},
   "source": [
    "#### There are 2 datasets: Rate dataset and Plan Attributes Dataset:"
   ]
  },
  {
   "cell_type": "markdown",
   "metadata": {},
   "source": [
    "### 1.1 Software Environment"
   ]
  },
  {
   "cell_type": "code",
   "execution_count": 11,
   "metadata": {
    "collapsed": true
   },
   "outputs": [],
   "source": [
    "import pandas as pd\n",
    "import zipfile\n",
    "import matplotlib.pyplot as plt\n",
    "import pandas as pd\n",
    "import numpy as np\n",
    "import seaborn as sns\n",
    "import statsmodels.formula.api as smf\n",
    "from pylab import rcParams\n",
    "rcParams['figure.figsize'] = 15, 10\n",
    "\n",
    "%matplotlib inline"
   ]
  },
  {
   "cell_type": "markdown",
   "metadata": {},
   "source": [
    "### 1.2 Read Dataset"
   ]
  },
  {
   "cell_type": "markdown",
   "metadata": {},
   "source": [
    "#### Rate.csv:"
   ]
  },
  {
   "cell_type": "code",
   "execution_count": 12,
   "metadata": {
    "collapsed": false
   },
   "outputs": [
    {
     "data": {
      "text/html": [
       "<div>\n",
       "<table border=\"1\" class=\"dataframe\">\n",
       "  <thead>\n",
       "    <tr style=\"text-align: right;\">\n",
       "      <th></th>\n",
       "      <th>BusinessYear</th>\n",
       "      <th>StateCode</th>\n",
       "      <th>IssuerId</th>\n",
       "      <th>SourceName</th>\n",
       "      <th>VersionNum</th>\n",
       "      <th>ImportDate</th>\n",
       "      <th>IssuerId2</th>\n",
       "      <th>FederalTIN</th>\n",
       "      <th>RateEffectiveDate</th>\n",
       "      <th>RateExpirationDate</th>\n",
       "      <th>...</th>\n",
       "      <th>IndividualRate</th>\n",
       "      <th>IndividualTobaccoRate</th>\n",
       "      <th>Couple</th>\n",
       "      <th>PrimarySubscriberAndOneDependent</th>\n",
       "      <th>PrimarySubscriberAndTwoDependents</th>\n",
       "      <th>PrimarySubscriberAndThreeOrMoreDependents</th>\n",
       "      <th>CoupleAndOneDependent</th>\n",
       "      <th>CoupleAndTwoDependents</th>\n",
       "      <th>CoupleAndThreeOrMoreDependents</th>\n",
       "      <th>RowNumber</th>\n",
       "    </tr>\n",
       "  </thead>\n",
       "  <tbody>\n",
       "    <tr>\n",
       "      <th>0</th>\n",
       "      <td>2014</td>\n",
       "      <td>AK</td>\n",
       "      <td>21989</td>\n",
       "      <td>HIOS</td>\n",
       "      <td>6</td>\n",
       "      <td>2014-03-19 07:06:49</td>\n",
       "      <td>21989</td>\n",
       "      <td>93-0438772</td>\n",
       "      <td>2014-01-01</td>\n",
       "      <td>2014-12-31</td>\n",
       "      <td>...</td>\n",
       "      <td>29.00</td>\n",
       "      <td>NaN</td>\n",
       "      <td>NaN</td>\n",
       "      <td>NaN</td>\n",
       "      <td>NaN</td>\n",
       "      <td>NaN</td>\n",
       "      <td>NaN</td>\n",
       "      <td>NaN</td>\n",
       "      <td>NaN</td>\n",
       "      <td>14</td>\n",
       "    </tr>\n",
       "    <tr>\n",
       "      <th>1</th>\n",
       "      <td>2014</td>\n",
       "      <td>AK</td>\n",
       "      <td>21989</td>\n",
       "      <td>HIOS</td>\n",
       "      <td>6</td>\n",
       "      <td>2014-03-19 07:06:49</td>\n",
       "      <td>21989</td>\n",
       "      <td>93-0438772</td>\n",
       "      <td>2014-01-01</td>\n",
       "      <td>2014-12-31</td>\n",
       "      <td>...</td>\n",
       "      <td>36.95</td>\n",
       "      <td>NaN</td>\n",
       "      <td>73.9</td>\n",
       "      <td>107.61</td>\n",
       "      <td>107.61</td>\n",
       "      <td>107.61</td>\n",
       "      <td>144.56</td>\n",
       "      <td>144.56</td>\n",
       "      <td>144.56</td>\n",
       "      <td>14</td>\n",
       "    </tr>\n",
       "    <tr>\n",
       "      <th>2</th>\n",
       "      <td>2014</td>\n",
       "      <td>AK</td>\n",
       "      <td>21989</td>\n",
       "      <td>HIOS</td>\n",
       "      <td>6</td>\n",
       "      <td>2014-03-19 07:06:49</td>\n",
       "      <td>21989</td>\n",
       "      <td>93-0438772</td>\n",
       "      <td>2014-01-01</td>\n",
       "      <td>2014-12-31</td>\n",
       "      <td>...</td>\n",
       "      <td>36.95</td>\n",
       "      <td>NaN</td>\n",
       "      <td>73.9</td>\n",
       "      <td>107.61</td>\n",
       "      <td>107.61</td>\n",
       "      <td>107.61</td>\n",
       "      <td>144.56</td>\n",
       "      <td>144.56</td>\n",
       "      <td>144.56</td>\n",
       "      <td>15</td>\n",
       "    </tr>\n",
       "  </tbody>\n",
       "</table>\n",
       "<p>3 rows × 24 columns</p>\n",
       "</div>"
      ],
      "text/plain": [
       "   BusinessYear StateCode  IssuerId SourceName  VersionNum  \\\n",
       "0          2014        AK     21989       HIOS           6   \n",
       "1          2014        AK     21989       HIOS           6   \n",
       "2          2014        AK     21989       HIOS           6   \n",
       "\n",
       "            ImportDate  IssuerId2  FederalTIN RateEffectiveDate  \\\n",
       "0  2014-03-19 07:06:49      21989  93-0438772        2014-01-01   \n",
       "1  2014-03-19 07:06:49      21989  93-0438772        2014-01-01   \n",
       "2  2014-03-19 07:06:49      21989  93-0438772        2014-01-01   \n",
       "\n",
       "  RateExpirationDate    ...     IndividualRate IndividualTobaccoRate Couple  \\\n",
       "0         2014-12-31    ...              29.00                   NaN    NaN   \n",
       "1         2014-12-31    ...              36.95                   NaN   73.9   \n",
       "2         2014-12-31    ...              36.95                   NaN   73.9   \n",
       "\n",
       "  PrimarySubscriberAndOneDependent  PrimarySubscriberAndTwoDependents  \\\n",
       "0                              NaN                                NaN   \n",
       "1                           107.61                             107.61   \n",
       "2                           107.61                             107.61   \n",
       "\n",
       "   PrimarySubscriberAndThreeOrMoreDependents  CoupleAndOneDependent  \\\n",
       "0                                        NaN                    NaN   \n",
       "1                                     107.61                 144.56   \n",
       "2                                     107.61                 144.56   \n",
       "\n",
       "   CoupleAndTwoDependents  CoupleAndThreeOrMoreDependents  RowNumber  \n",
       "0                     NaN                             NaN         14  \n",
       "1                  144.56                          144.56         14  \n",
       "2                  144.56                          144.56         15  \n",
       "\n",
       "[3 rows x 24 columns]"
      ]
     },
     "execution_count": 12,
     "metadata": {},
     "output_type": "execute_result"
    }
   ],
   "source": [
    "Rate_Raw = pd.read_csv(\"Rate.csv\")\n",
    "Rate_Raw.head(3)"
   ]
  },
  {
   "cell_type": "markdown",
   "metadata": {},
   "source": [
    "#### Pick the useful features:"
   ]
  },
  {
   "cell_type": "code",
   "execution_count": 13,
   "metadata": {
    "collapsed": false
   },
   "outputs": [
    {
     "data": {
      "text/html": [
       "<div>\n",
       "<table border=\"1\" class=\"dataframe\">\n",
       "  <thead>\n",
       "    <tr style=\"text-align: right;\">\n",
       "      <th></th>\n",
       "      <th>BusinessYear</th>\n",
       "      <th>StateCode</th>\n",
       "      <th>IssuerId</th>\n",
       "      <th>ImportDate</th>\n",
       "      <th>PlanId</th>\n",
       "      <th>Age</th>\n",
       "      <th>IndividualRate</th>\n",
       "      <th>Couple</th>\n",
       "      <th>CoupleAndOneDependent</th>\n",
       "      <th>CoupleAndTwoDependents</th>\n",
       "      <th>CoupleAndThreeOrMoreDependents</th>\n",
       "    </tr>\n",
       "  </thead>\n",
       "  <tbody>\n",
       "    <tr>\n",
       "      <th>0</th>\n",
       "      <td>2014</td>\n",
       "      <td>AK</td>\n",
       "      <td>21989</td>\n",
       "      <td>2014-03-19 07:06:49</td>\n",
       "      <td>21989AK0010001</td>\n",
       "      <td>0-20</td>\n",
       "      <td>29.00</td>\n",
       "      <td>NaN</td>\n",
       "      <td>NaN</td>\n",
       "      <td>NaN</td>\n",
       "      <td>NaN</td>\n",
       "    </tr>\n",
       "    <tr>\n",
       "      <th>1</th>\n",
       "      <td>2014</td>\n",
       "      <td>AK</td>\n",
       "      <td>21989</td>\n",
       "      <td>2014-03-19 07:06:49</td>\n",
       "      <td>21989AK0020001</td>\n",
       "      <td>Family Option</td>\n",
       "      <td>36.95</td>\n",
       "      <td>73.9</td>\n",
       "      <td>144.56</td>\n",
       "      <td>144.56</td>\n",
       "      <td>144.56</td>\n",
       "    </tr>\n",
       "    <tr>\n",
       "      <th>2</th>\n",
       "      <td>2014</td>\n",
       "      <td>AK</td>\n",
       "      <td>21989</td>\n",
       "      <td>2014-03-19 07:06:49</td>\n",
       "      <td>21989AK0020001</td>\n",
       "      <td>Family Option</td>\n",
       "      <td>36.95</td>\n",
       "      <td>73.9</td>\n",
       "      <td>144.56</td>\n",
       "      <td>144.56</td>\n",
       "      <td>144.56</td>\n",
       "    </tr>\n",
       "  </tbody>\n",
       "</table>\n",
       "</div>"
      ],
      "text/plain": [
       "   BusinessYear StateCode  IssuerId           ImportDate          PlanId  \\\n",
       "0          2014        AK     21989  2014-03-19 07:06:49  21989AK0010001   \n",
       "1          2014        AK     21989  2014-03-19 07:06:49  21989AK0020001   \n",
       "2          2014        AK     21989  2014-03-19 07:06:49  21989AK0020001   \n",
       "\n",
       "             Age  IndividualRate  Couple  CoupleAndOneDependent  \\\n",
       "0           0-20           29.00     NaN                    NaN   \n",
       "1  Family Option           36.95    73.9                 144.56   \n",
       "2  Family Option           36.95    73.9                 144.56   \n",
       "\n",
       "   CoupleAndTwoDependents  CoupleAndThreeOrMoreDependents  \n",
       "0                     NaN                             NaN  \n",
       "1                  144.56                          144.56  \n",
       "2                  144.56                          144.56  "
      ]
     },
     "execution_count": 13,
     "metadata": {},
     "output_type": "execute_result"
    }
   ],
   "source": [
    "Rate_Data=Rate_Raw[['BusinessYear','StateCode','IssuerId','ImportDate','PlanId','Age','IndividualRate','Couple',\n",
    "                    'CoupleAndOneDependent','CoupleAndTwoDependents','CoupleAndThreeOrMoreDependents']]\n",
    "Rate_Data.head(3)"
   ]
  },
  {
   "cell_type": "markdown",
   "metadata": {},
   "source": [
    "#### Export the integrated data frame into another file \"Rate_Data.csv\". The progress is quite slow but will be effiency for the future work."
   ]
  },
  {
   "cell_type": "code",
   "execution_count": 14,
   "metadata": {
    "collapsed": true
   },
   "outputs": [],
   "source": [
    "Rate_Data.to_csv(\"Rate_Data.csv\")"
   ]
  },
  {
   "cell_type": "markdown",
   "metadata": {},
   "source": [
    "#### Read Plan Attributes Dataset:"
   ]
  },
  {
   "cell_type": "code",
   "execution_count": 15,
   "metadata": {
    "collapsed": false
   },
   "outputs": [
    {
     "name": "stderr",
     "output_type": "stream",
     "text": [
      "D:\\WinPython-64bit-2.7.10.3\\python-2.7.10.amd64\\lib\\site-packages\\IPython\\core\\interactiveshell.py:2902: DtypeWarning: Columns (0,7,8,9,10,11,12,13,14,15,18,19,20,22,23,24,25,26,27,28,29,31,32,33,34,39,40,41,42,66,67,68,70,71,72,75,76,77,79,80,81,82,84,85,86,88,89,90,92,93,94,96,97,98,136,137,138,140,141,142,145,146,147,150,151,152,154,155,156,158,159,160,162,163,164,166,167,168) have mixed types. Specify dtype option on import or set low_memory=False.\n",
      "  interactivity=interactivity, compiler=compiler, result=result)\n"
     ]
    },
    {
     "data": {
      "text/html": [
       "<div>\n",
       "<table border=\"1\" class=\"dataframe\">\n",
       "  <thead>\n",
       "    <tr style=\"text-align: right;\">\n",
       "      <th></th>\n",
       "      <th>AVCalculatorOutputNumber</th>\n",
       "      <th>BeginPrimaryCareCostSharingAfterNumberOfVisits</th>\n",
       "      <th>BeginPrimaryCareDeductibleCoinsuranceAfterNumberOfCopays</th>\n",
       "      <th>BenefitPackageId</th>\n",
       "      <th>BusinessYear</th>\n",
       "      <th>CSRVariationType</th>\n",
       "      <th>ChildOnlyOffering</th>\n",
       "      <th>ChildOnlyPlanId</th>\n",
       "      <th>CompositeRatingOffered</th>\n",
       "      <th>DEHBCombInnOonFamilyMOOP</th>\n",
       "      <th>...</th>\n",
       "      <th>TEHBOutOfNetFamilyMOOP</th>\n",
       "      <th>TEHBOutOfNetFamilyPerGroupMOOP</th>\n",
       "      <th>TEHBOutOfNetFamilyPerPersonMOOP</th>\n",
       "      <th>TEHBOutOfNetIndividualMOOP</th>\n",
       "      <th>TIN</th>\n",
       "      <th>URLForEnrollmentPayment</th>\n",
       "      <th>URLForSummaryofBenefitsCoverage</th>\n",
       "      <th>UniquePlanDesign</th>\n",
       "      <th>VersionNum</th>\n",
       "      <th>WellnessProgramOffered</th>\n",
       "    </tr>\n",
       "  </thead>\n",
       "  <tbody>\n",
       "    <tr>\n",
       "      <th>0</th>\n",
       "      <td>NaN</td>\n",
       "      <td>0</td>\n",
       "      <td>0</td>\n",
       "      <td>1</td>\n",
       "      <td>2014</td>\n",
       "      <td>Standard Low Off Exchange Plan</td>\n",
       "      <td>Allows Adult and Child-Only</td>\n",
       "      <td>NaN</td>\n",
       "      <td>NaN</td>\n",
       "      <td>NaN</td>\n",
       "      <td>...</td>\n",
       "      <td>NaN</td>\n",
       "      <td>NaN</td>\n",
       "      <td>NaN</td>\n",
       "      <td>NaN</td>\n",
       "      <td>93-0438772</td>\n",
       "      <td>https://www.modahealth.com/employers/enroll.shtml</td>\n",
       "      <td>https://www.modahealth.com/producers/grp/den.s...</td>\n",
       "      <td>NaN</td>\n",
       "      <td>6</td>\n",
       "      <td>NaN</td>\n",
       "    </tr>\n",
       "    <tr>\n",
       "      <th>1</th>\n",
       "      <td>NaN</td>\n",
       "      <td>0</td>\n",
       "      <td>0</td>\n",
       "      <td>1</td>\n",
       "      <td>2014</td>\n",
       "      <td>Standard Low On Exchange Plan</td>\n",
       "      <td>Allows Adult and Child-Only</td>\n",
       "      <td>NaN</td>\n",
       "      <td>NaN</td>\n",
       "      <td>NaN</td>\n",
       "      <td>...</td>\n",
       "      <td>NaN</td>\n",
       "      <td>NaN</td>\n",
       "      <td>NaN</td>\n",
       "      <td>NaN</td>\n",
       "      <td>93-0438772</td>\n",
       "      <td>https://www.modahealth.com/employers/enroll.shtml</td>\n",
       "      <td>https://www.modahealth.com/producers/grp/den.s...</td>\n",
       "      <td>NaN</td>\n",
       "      <td>6</td>\n",
       "      <td>NaN</td>\n",
       "    </tr>\n",
       "    <tr>\n",
       "      <th>2</th>\n",
       "      <td>NaN</td>\n",
       "      <td>0</td>\n",
       "      <td>0</td>\n",
       "      <td>1</td>\n",
       "      <td>2014</td>\n",
       "      <td>Standard High Off Exchange Plan</td>\n",
       "      <td>Allows Adult and Child-Only</td>\n",
       "      <td>NaN</td>\n",
       "      <td>NaN</td>\n",
       "      <td>NaN</td>\n",
       "      <td>...</td>\n",
       "      <td>NaN</td>\n",
       "      <td>NaN</td>\n",
       "      <td>NaN</td>\n",
       "      <td>NaN</td>\n",
       "      <td>93-0438772</td>\n",
       "      <td>https://www.modahealth.com/employers/enroll.shtml</td>\n",
       "      <td>https://www.modahealth.com/producers/grp/den.s...</td>\n",
       "      <td>NaN</td>\n",
       "      <td>6</td>\n",
       "      <td>NaN</td>\n",
       "    </tr>\n",
       "  </tbody>\n",
       "</table>\n",
       "<p>3 rows × 176 columns</p>\n",
       "</div>"
      ],
      "text/plain": [
       "  AVCalculatorOutputNumber  BeginPrimaryCareCostSharingAfterNumberOfVisits  \\\n",
       "0                      NaN                                               0   \n",
       "1                      NaN                                               0   \n",
       "2                      NaN                                               0   \n",
       "\n",
       "   BeginPrimaryCareDeductibleCoinsuranceAfterNumberOfCopays  BenefitPackageId  \\\n",
       "0                                                  0                        1   \n",
       "1                                                  0                        1   \n",
       "2                                                  0                        1   \n",
       "\n",
       "   BusinessYear                 CSRVariationType            ChildOnlyOffering  \\\n",
       "0          2014   Standard Low Off Exchange Plan  Allows Adult and Child-Only   \n",
       "1          2014    Standard Low On Exchange Plan  Allows Adult and Child-Only   \n",
       "2          2014  Standard High Off Exchange Plan  Allows Adult and Child-Only   \n",
       "\n",
       "  ChildOnlyPlanId CompositeRatingOffered DEHBCombInnOonFamilyMOOP  \\\n",
       "0             NaN                    NaN                      NaN   \n",
       "1             NaN                    NaN                      NaN   \n",
       "2             NaN                    NaN                      NaN   \n",
       "\n",
       "           ...           TEHBOutOfNetFamilyMOOP  \\\n",
       "0          ...                              NaN   \n",
       "1          ...                              NaN   \n",
       "2          ...                              NaN   \n",
       "\n",
       "  TEHBOutOfNetFamilyPerGroupMOOP TEHBOutOfNetFamilyPerPersonMOOP  \\\n",
       "0                            NaN                             NaN   \n",
       "1                            NaN                             NaN   \n",
       "2                            NaN                             NaN   \n",
       "\n",
       "  TEHBOutOfNetIndividualMOOP         TIN  \\\n",
       "0                        NaN  93-0438772   \n",
       "1                        NaN  93-0438772   \n",
       "2                        NaN  93-0438772   \n",
       "\n",
       "                             URLForEnrollmentPayment  \\\n",
       "0  https://www.modahealth.com/employers/enroll.shtml   \n",
       "1  https://www.modahealth.com/employers/enroll.shtml   \n",
       "2  https://www.modahealth.com/employers/enroll.shtml   \n",
       "\n",
       "                     URLForSummaryofBenefitsCoverage UniquePlanDesign  \\\n",
       "0  https://www.modahealth.com/producers/grp/den.s...              NaN   \n",
       "1  https://www.modahealth.com/producers/grp/den.s...              NaN   \n",
       "2  https://www.modahealth.com/producers/grp/den.s...              NaN   \n",
       "\n",
       "  VersionNum WellnessProgramOffered  \n",
       "0          6                    NaN  \n",
       "1          6                    NaN  \n",
       "2          6                    NaN  \n",
       "\n",
       "[3 rows x 176 columns]"
      ]
     },
     "execution_count": 15,
     "metadata": {},
     "output_type": "execute_result"
    }
   ],
   "source": [
    "PlanAttributes_Raw = pd.read_csv(\"PlanAttributes.csv\")\n",
    "PlanAttributes_Raw.head(3)"
   ]
  },
  {
   "cell_type": "markdown",
   "metadata": {},
   "source": [
    "####  Pick the features:"
   ]
  },
  {
   "cell_type": "code",
   "execution_count": 16,
   "metadata": {
    "collapsed": false
   },
   "outputs": [
    {
     "data": {
      "text/html": [
       "<div>\n",
       "<table border=\"1\" class=\"dataframe\">\n",
       "  <thead>\n",
       "    <tr style=\"text-align: right;\">\n",
       "      <th></th>\n",
       "      <th>BusinessYear</th>\n",
       "      <th>StateCode</th>\n",
       "      <th>IssuerId</th>\n",
       "      <th>ImportDate</th>\n",
       "      <th>PlanId</th>\n",
       "      <th>MetalLevel</th>\n",
       "      <th>TEHBInnTier1FamilyMOOP</th>\n",
       "      <th>TEHBInnTier1IndividualMOOP</th>\n",
       "    </tr>\n",
       "  </thead>\n",
       "  <tbody>\n",
       "    <tr>\n",
       "      <th>0</th>\n",
       "      <td>2014</td>\n",
       "      <td>AK</td>\n",
       "      <td>21989</td>\n",
       "      <td>2014-03-19 07:06:49</td>\n",
       "      <td>21989AK0020002-00</td>\n",
       "      <td>Low</td>\n",
       "      <td>NaN</td>\n",
       "      <td>NaN</td>\n",
       "    </tr>\n",
       "    <tr>\n",
       "      <th>1</th>\n",
       "      <td>2014</td>\n",
       "      <td>AK</td>\n",
       "      <td>21989</td>\n",
       "      <td>2014-03-19 07:06:49</td>\n",
       "      <td>21989AK0020002-01</td>\n",
       "      <td>Low</td>\n",
       "      <td>NaN</td>\n",
       "      <td>NaN</td>\n",
       "    </tr>\n",
       "    <tr>\n",
       "      <th>2</th>\n",
       "      <td>2014</td>\n",
       "      <td>AK</td>\n",
       "      <td>21989</td>\n",
       "      <td>2014-03-19 07:06:49</td>\n",
       "      <td>21989AK0020001-00</td>\n",
       "      <td>High</td>\n",
       "      <td>NaN</td>\n",
       "      <td>NaN</td>\n",
       "    </tr>\n",
       "  </tbody>\n",
       "</table>\n",
       "</div>"
      ],
      "text/plain": [
       "   BusinessYear StateCode  IssuerId           ImportDate             PlanId  \\\n",
       "0          2014        AK     21989  2014-03-19 07:06:49  21989AK0020002-00   \n",
       "1          2014        AK     21989  2014-03-19 07:06:49  21989AK0020002-01   \n",
       "2          2014        AK     21989  2014-03-19 07:06:49  21989AK0020001-00   \n",
       "\n",
       "  MetalLevel TEHBInnTier1FamilyMOOP TEHBInnTier1IndividualMOOP  \n",
       "0        Low                    NaN                        NaN  \n",
       "1        Low                    NaN                        NaN  \n",
       "2       High                    NaN                        NaN  "
      ]
     },
     "execution_count": 16,
     "metadata": {},
     "output_type": "execute_result"
    }
   ],
   "source": [
    "PlanAttributes_Data=PlanAttributes_Raw[['BusinessYear','StateCode','IssuerId','ImportDate','PlanId','MetalLevel',\n",
    "                                        'TEHBInnTier1FamilyMOOP','TEHBInnTier1IndividualMOOP']]\n",
    "PlanAttributes_Data.head(3)"
   ]
  },
  {
   "cell_type": "markdown",
   "metadata": {},
   "source": [
    "#### Export the integrated data frame into another file \"PlanAttributes_Data.csv\". "
   ]
  },
  {
   "cell_type": "code",
   "execution_count": 17,
   "metadata": {
    "collapsed": true
   },
   "outputs": [],
   "source": [
    "PlanAttributes_Data.to_csv(\"PlanAttributes_Data.csv\")"
   ]
  },
  {
   "cell_type": "markdown",
   "metadata": {},
   "source": [
    "### 1.3 Rate Dataset Wrangling"
   ]
  },
  {
   "cell_type": "markdown",
   "metadata": {},
   "source": [
    "#### Use the file 'Rate_Data.csv':"
   ]
  },
  {
   "cell_type": "code",
   "execution_count": 18,
   "metadata": {
    "collapsed": false
   },
   "outputs": [
    {
     "data": {
      "text/html": [
       "<div>\n",
       "<table border=\"1\" class=\"dataframe\">\n",
       "  <thead>\n",
       "    <tr style=\"text-align: right;\">\n",
       "      <th></th>\n",
       "      <th>Unnamed: 0</th>\n",
       "      <th>BusinessYear</th>\n",
       "      <th>StateCode</th>\n",
       "      <th>IssuerId</th>\n",
       "      <th>ImportDate</th>\n",
       "      <th>PlanId</th>\n",
       "      <th>Age</th>\n",
       "      <th>IndividualRate</th>\n",
       "      <th>Couple</th>\n",
       "      <th>CoupleAndOneDependent</th>\n",
       "      <th>CoupleAndTwoDependents</th>\n",
       "      <th>CoupleAndThreeOrMoreDependents</th>\n",
       "    </tr>\n",
       "  </thead>\n",
       "  <tbody>\n",
       "    <tr>\n",
       "      <th>0</th>\n",
       "      <td>0</td>\n",
       "      <td>2014</td>\n",
       "      <td>AK</td>\n",
       "      <td>21989</td>\n",
       "      <td>2014-03-19 07:06:49</td>\n",
       "      <td>21989AK0010001</td>\n",
       "      <td>0-20</td>\n",
       "      <td>29.00</td>\n",
       "      <td>NaN</td>\n",
       "      <td>NaN</td>\n",
       "      <td>NaN</td>\n",
       "      <td>NaN</td>\n",
       "    </tr>\n",
       "    <tr>\n",
       "      <th>1</th>\n",
       "      <td>1</td>\n",
       "      <td>2014</td>\n",
       "      <td>AK</td>\n",
       "      <td>21989</td>\n",
       "      <td>2014-03-19 07:06:49</td>\n",
       "      <td>21989AK0020001</td>\n",
       "      <td>Family Option</td>\n",
       "      <td>36.95</td>\n",
       "      <td>73.9</td>\n",
       "      <td>144.56</td>\n",
       "      <td>144.56</td>\n",
       "      <td>144.56</td>\n",
       "    </tr>\n",
       "    <tr>\n",
       "      <th>2</th>\n",
       "      <td>2</td>\n",
       "      <td>2014</td>\n",
       "      <td>AK</td>\n",
       "      <td>21989</td>\n",
       "      <td>2014-03-19 07:06:49</td>\n",
       "      <td>21989AK0020001</td>\n",
       "      <td>Family Option</td>\n",
       "      <td>36.95</td>\n",
       "      <td>73.9</td>\n",
       "      <td>144.56</td>\n",
       "      <td>144.56</td>\n",
       "      <td>144.56</td>\n",
       "    </tr>\n",
       "  </tbody>\n",
       "</table>\n",
       "</div>"
      ],
      "text/plain": [
       "   Unnamed: 0  BusinessYear StateCode  IssuerId           ImportDate  \\\n",
       "0           0          2014        AK     21989  2014-03-19 07:06:49   \n",
       "1           1          2014        AK     21989  2014-03-19 07:06:49   \n",
       "2           2          2014        AK     21989  2014-03-19 07:06:49   \n",
       "\n",
       "           PlanId            Age  IndividualRate  Couple  \\\n",
       "0  21989AK0010001           0-20           29.00     NaN   \n",
       "1  21989AK0020001  Family Option           36.95    73.9   \n",
       "2  21989AK0020001  Family Option           36.95    73.9   \n",
       "\n",
       "   CoupleAndOneDependent  CoupleAndTwoDependents  \\\n",
       "0                    NaN                     NaN   \n",
       "1                 144.56                  144.56   \n",
       "2                 144.56                  144.56   \n",
       "\n",
       "   CoupleAndThreeOrMoreDependents  \n",
       "0                             NaN  \n",
       "1                          144.56  \n",
       "2                          144.56  "
      ]
     },
     "execution_count": 18,
     "metadata": {},
     "output_type": "execute_result"
    }
   ],
   "source": [
    "RateData = pd.read_csv('Rate_Data.csv')\n",
    "RateData.head(3)"
   ]
  },
  {
   "cell_type": "markdown",
   "metadata": {},
   "source": [
    "#### Clear out the weird data (the rates in US aren't allowed over 9,000):"
   ]
  },
  {
   "cell_type": "code",
   "execution_count": 19,
   "metadata": {
    "collapsed": false
   },
   "outputs": [
    {
     "data": {
      "text/plain": [
       "array([ 999999.  ,    9999.  ,    9999.99])"
      ]
     },
     "execution_count": 19,
     "metadata": {},
     "output_type": "execute_result"
    }
   ],
   "source": [
    "RateData[RateData.IndividualRate>9000].IndividualRate.unique() # weird data"
   ]
  },
  {
   "cell_type": "code",
   "execution_count": 20,
   "metadata": {
    "collapsed": false
   },
   "outputs": [
    {
     "data": {
      "text/html": [
       "<div>\n",
       "<table border=\"1\" class=\"dataframe\">\n",
       "  <thead>\n",
       "    <tr style=\"text-align: right;\">\n",
       "      <th></th>\n",
       "      <th>Unnamed: 0</th>\n",
       "      <th>BusinessYear</th>\n",
       "      <th>StateCode</th>\n",
       "      <th>IssuerId</th>\n",
       "      <th>ImportDate</th>\n",
       "      <th>PlanId</th>\n",
       "      <th>Age</th>\n",
       "      <th>IndividualRate</th>\n",
       "      <th>Couple</th>\n",
       "      <th>CoupleAndOneDependent</th>\n",
       "      <th>CoupleAndTwoDependents</th>\n",
       "      <th>CoupleAndThreeOrMoreDependents</th>\n",
       "    </tr>\n",
       "  </thead>\n",
       "  <tbody>\n",
       "    <tr>\n",
       "      <th>0</th>\n",
       "      <td>0</td>\n",
       "      <td>2014</td>\n",
       "      <td>AK</td>\n",
       "      <td>21989</td>\n",
       "      <td>2014-03-19 07:06:49</td>\n",
       "      <td>21989AK0010001</td>\n",
       "      <td>0-20</td>\n",
       "      <td>29.00</td>\n",
       "      <td>NaN</td>\n",
       "      <td>NaN</td>\n",
       "      <td>NaN</td>\n",
       "      <td>NaN</td>\n",
       "    </tr>\n",
       "    <tr>\n",
       "      <th>1</th>\n",
       "      <td>1</td>\n",
       "      <td>2014</td>\n",
       "      <td>AK</td>\n",
       "      <td>21989</td>\n",
       "      <td>2014-03-19 07:06:49</td>\n",
       "      <td>21989AK0020001</td>\n",
       "      <td>Family Option</td>\n",
       "      <td>36.95</td>\n",
       "      <td>73.9</td>\n",
       "      <td>144.56</td>\n",
       "      <td>144.56</td>\n",
       "      <td>144.56</td>\n",
       "    </tr>\n",
       "    <tr>\n",
       "      <th>2</th>\n",
       "      <td>2</td>\n",
       "      <td>2014</td>\n",
       "      <td>AK</td>\n",
       "      <td>21989</td>\n",
       "      <td>2014-03-19 07:06:49</td>\n",
       "      <td>21989AK0020001</td>\n",
       "      <td>Family Option</td>\n",
       "      <td>36.95</td>\n",
       "      <td>73.9</td>\n",
       "      <td>144.56</td>\n",
       "      <td>144.56</td>\n",
       "      <td>144.56</td>\n",
       "    </tr>\n",
       "  </tbody>\n",
       "</table>\n",
       "</div>"
      ],
      "text/plain": [
       "   Unnamed: 0  BusinessYear StateCode  IssuerId           ImportDate  \\\n",
       "0           0          2014        AK     21989  2014-03-19 07:06:49   \n",
       "1           1          2014        AK     21989  2014-03-19 07:06:49   \n",
       "2           2          2014        AK     21989  2014-03-19 07:06:49   \n",
       "\n",
       "           PlanId            Age  IndividualRate  Couple  \\\n",
       "0  21989AK0010001           0-20           29.00     NaN   \n",
       "1  21989AK0020001  Family Option           36.95    73.9   \n",
       "2  21989AK0020001  Family Option           36.95    73.9   \n",
       "\n",
       "   CoupleAndOneDependent  CoupleAndTwoDependents  \\\n",
       "0                    NaN                     NaN   \n",
       "1                 144.56                  144.56   \n",
       "2                 144.56                  144.56   \n",
       "\n",
       "   CoupleAndThreeOrMoreDependents  \n",
       "0                             NaN  \n",
       "1                          144.56  \n",
       "2                          144.56  "
      ]
     },
     "execution_count": 20,
     "metadata": {},
     "output_type": "execute_result"
    }
   ],
   "source": [
    "RateData = RateData[RateData.IndividualRate <9000]\n",
    "RateData.head(3)"
   ]
  },
  {
   "cell_type": "markdown",
   "metadata": {},
   "source": [
    "#### This report will focus on family option plans analysis, so delete all the plans for special ages:"
   ]
  },
  {
   "cell_type": "code",
   "execution_count": 21,
   "metadata": {
    "collapsed": false
   },
   "outputs": [
    {
     "data": {
      "text/html": [
       "<div>\n",
       "<table border=\"1\" class=\"dataframe\">\n",
       "  <thead>\n",
       "    <tr style=\"text-align: right;\">\n",
       "      <th></th>\n",
       "      <th>Unnamed: 0</th>\n",
       "      <th>BusinessYear</th>\n",
       "      <th>StateCode</th>\n",
       "      <th>IssuerId</th>\n",
       "      <th>ImportDate</th>\n",
       "      <th>PlanId</th>\n",
       "      <th>Age</th>\n",
       "      <th>IndividualRate</th>\n",
       "      <th>Couple</th>\n",
       "      <th>CoupleAndOneDependent</th>\n",
       "      <th>CoupleAndTwoDependents</th>\n",
       "      <th>CoupleAndThreeOrMoreDependents</th>\n",
       "    </tr>\n",
       "  </thead>\n",
       "  <tbody>\n",
       "    <tr>\n",
       "      <th>1</th>\n",
       "      <td>1</td>\n",
       "      <td>2014</td>\n",
       "      <td>AK</td>\n",
       "      <td>21989</td>\n",
       "      <td>2014-03-19 07:06:49</td>\n",
       "      <td>21989AK0020001</td>\n",
       "      <td>Family Option</td>\n",
       "      <td>36.95</td>\n",
       "      <td>73.9</td>\n",
       "      <td>144.56</td>\n",
       "      <td>144.56</td>\n",
       "      <td>144.56</td>\n",
       "    </tr>\n",
       "    <tr>\n",
       "      <th>2</th>\n",
       "      <td>2</td>\n",
       "      <td>2014</td>\n",
       "      <td>AK</td>\n",
       "      <td>21989</td>\n",
       "      <td>2014-03-19 07:06:49</td>\n",
       "      <td>21989AK0020001</td>\n",
       "      <td>Family Option</td>\n",
       "      <td>36.95</td>\n",
       "      <td>73.9</td>\n",
       "      <td>144.56</td>\n",
       "      <td>144.56</td>\n",
       "      <td>144.56</td>\n",
       "    </tr>\n",
       "    <tr>\n",
       "      <th>5</th>\n",
       "      <td>5</td>\n",
       "      <td>2014</td>\n",
       "      <td>AK</td>\n",
       "      <td>21989</td>\n",
       "      <td>2014-03-19 07:06:49</td>\n",
       "      <td>21989AK0020001</td>\n",
       "      <td>Family Option</td>\n",
       "      <td>36.95</td>\n",
       "      <td>73.9</td>\n",
       "      <td>144.56</td>\n",
       "      <td>144.56</td>\n",
       "      <td>144.56</td>\n",
       "    </tr>\n",
       "  </tbody>\n",
       "</table>\n",
       "</div>"
      ],
      "text/plain": [
       "   Unnamed: 0  BusinessYear StateCode  IssuerId           ImportDate  \\\n",
       "1           1          2014        AK     21989  2014-03-19 07:06:49   \n",
       "2           2          2014        AK     21989  2014-03-19 07:06:49   \n",
       "5           5          2014        AK     21989  2014-03-19 07:06:49   \n",
       "\n",
       "           PlanId            Age  IndividualRate  Couple  \\\n",
       "1  21989AK0020001  Family Option           36.95    73.9   \n",
       "2  21989AK0020001  Family Option           36.95    73.9   \n",
       "5  21989AK0020001  Family Option           36.95    73.9   \n",
       "\n",
       "   CoupleAndOneDependent  CoupleAndTwoDependents  \\\n",
       "1                 144.56                  144.56   \n",
       "2                 144.56                  144.56   \n",
       "5                 144.56                  144.56   \n",
       "\n",
       "   CoupleAndThreeOrMoreDependents  \n",
       "1                          144.56  \n",
       "2                          144.56  \n",
       "5                          144.56  "
      ]
     },
     "execution_count": 21,
     "metadata": {},
     "output_type": "execute_result"
    }
   ],
   "source": [
    "RateData_FO = RateData[RateData.Age == \"Family Option\"]\n",
    "RateData_FO.head(3)"
   ]
  },
  {
   "cell_type": "markdown",
   "metadata": {},
   "source": [
    "#### Change the 'ImportDate' column to date time type:"
   ]
  },
  {
   "cell_type": "code",
   "execution_count": 22,
   "metadata": {
    "collapsed": false
   },
   "outputs": [
    {
     "name": "stderr",
     "output_type": "stream",
     "text": [
      "D:\\WinPython-64bit-2.7.10.3\\python-2.7.10.amd64\\lib\\site-packages\\ipykernel\\__main__.py:1: SettingWithCopyWarning: \n",
      "A value is trying to be set on a copy of a slice from a DataFrame.\n",
      "Try using .loc[row_indexer,col_indexer] = value instead\n",
      "\n",
      "See the caveats in the documentation: http://pandas.pydata.org/pandas-docs/stable/indexing.html#indexing-view-versus-copy\n",
      "  if __name__ == '__main__':\n"
     ]
    }
   ],
   "source": [
    "RateData_FO['ImportDate']=RateData_FO['ImportDate'].apply(pd.to_datetime)"
   ]
  },
  {
   "cell_type": "markdown",
   "metadata": {},
   "source": [
    "#### Delete \"Unnamed: 0\":"
   ]
  },
  {
   "cell_type": "code",
   "execution_count": 23,
   "metadata": {
    "collapsed": false
   },
   "outputs": [
    {
     "data": {
      "text/html": [
       "<div>\n",
       "<table border=\"1\" class=\"dataframe\">\n",
       "  <thead>\n",
       "    <tr style=\"text-align: right;\">\n",
       "      <th></th>\n",
       "      <th>BusinessYear</th>\n",
       "      <th>StateCode</th>\n",
       "      <th>IssuerId</th>\n",
       "      <th>ImportDate</th>\n",
       "      <th>PlanId</th>\n",
       "      <th>Age</th>\n",
       "      <th>IndividualRate</th>\n",
       "      <th>Couple</th>\n",
       "      <th>CoupleAndOneDependent</th>\n",
       "      <th>CoupleAndTwoDependents</th>\n",
       "      <th>CoupleAndThreeOrMoreDependents</th>\n",
       "    </tr>\n",
       "  </thead>\n",
       "  <tbody>\n",
       "    <tr>\n",
       "      <th>1</th>\n",
       "      <td>2014</td>\n",
       "      <td>AK</td>\n",
       "      <td>21989</td>\n",
       "      <td>2014-03-19 07:06:49</td>\n",
       "      <td>21989AK0020001</td>\n",
       "      <td>Family Option</td>\n",
       "      <td>36.95</td>\n",
       "      <td>73.9</td>\n",
       "      <td>144.56</td>\n",
       "      <td>144.56</td>\n",
       "      <td>144.56</td>\n",
       "    </tr>\n",
       "    <tr>\n",
       "      <th>2</th>\n",
       "      <td>2014</td>\n",
       "      <td>AK</td>\n",
       "      <td>21989</td>\n",
       "      <td>2014-03-19 07:06:49</td>\n",
       "      <td>21989AK0020001</td>\n",
       "      <td>Family Option</td>\n",
       "      <td>36.95</td>\n",
       "      <td>73.9</td>\n",
       "      <td>144.56</td>\n",
       "      <td>144.56</td>\n",
       "      <td>144.56</td>\n",
       "    </tr>\n",
       "    <tr>\n",
       "      <th>5</th>\n",
       "      <td>2014</td>\n",
       "      <td>AK</td>\n",
       "      <td>21989</td>\n",
       "      <td>2014-03-19 07:06:49</td>\n",
       "      <td>21989AK0020001</td>\n",
       "      <td>Family Option</td>\n",
       "      <td>36.95</td>\n",
       "      <td>73.9</td>\n",
       "      <td>144.56</td>\n",
       "      <td>144.56</td>\n",
       "      <td>144.56</td>\n",
       "    </tr>\n",
       "  </tbody>\n",
       "</table>\n",
       "</div>"
      ],
      "text/plain": [
       "   BusinessYear StateCode  IssuerId          ImportDate          PlanId  \\\n",
       "1          2014        AK     21989 2014-03-19 07:06:49  21989AK0020001   \n",
       "2          2014        AK     21989 2014-03-19 07:06:49  21989AK0020001   \n",
       "5          2014        AK     21989 2014-03-19 07:06:49  21989AK0020001   \n",
       "\n",
       "             Age  IndividualRate  Couple  CoupleAndOneDependent  \\\n",
       "1  Family Option           36.95    73.9                 144.56   \n",
       "2  Family Option           36.95    73.9                 144.56   \n",
       "5  Family Option           36.95    73.9                 144.56   \n",
       "\n",
       "   CoupleAndTwoDependents  CoupleAndThreeOrMoreDependents  \n",
       "1                  144.56                          144.56  \n",
       "2                  144.56                          144.56  \n",
       "5                  144.56                          144.56  "
      ]
     },
     "execution_count": 23,
     "metadata": {},
     "output_type": "execute_result"
    }
   ],
   "source": [
    "RateData_FO=RateData_FO.drop(RateData_FO[[0]],1)\n",
    "RateData_FO.head(3)"
   ]
  },
  {
   "cell_type": "markdown",
   "metadata": {
    "collapsed": true
   },
   "source": [
    "#### The Rate dataset are proper to use for visualisation and prediction."
   ]
  },
  {
   "cell_type": "markdown",
   "metadata": {},
   "source": [
    "### 1.4 Plan Attributes Dataset Wrangling"
   ]
  },
  {
   "cell_type": "markdown",
   "metadata": {},
   "source": [
    "#### Start cleaning the Plan Attributes Dataset. First read the dataset csv:"
   ]
  },
  {
   "cell_type": "code",
   "execution_count": 24,
   "metadata": {
    "collapsed": false
   },
   "outputs": [
    {
     "name": "stderr",
     "output_type": "stream",
     "text": [
      "D:\\WinPython-64bit-2.7.10.3\\python-2.7.10.amd64\\lib\\site-packages\\IPython\\core\\interactiveshell.py:2902: DtypeWarning: Columns (7) have mixed types. Specify dtype option on import or set low_memory=False.\n",
      "  interactivity=interactivity, compiler=compiler, result=result)\n"
     ]
    },
    {
     "data": {
      "text/html": [
       "<div>\n",
       "<table border=\"1\" class=\"dataframe\">\n",
       "  <thead>\n",
       "    <tr style=\"text-align: right;\">\n",
       "      <th></th>\n",
       "      <th>Unnamed: 0</th>\n",
       "      <th>BusinessYear</th>\n",
       "      <th>StateCode</th>\n",
       "      <th>IssuerId</th>\n",
       "      <th>ImportDate</th>\n",
       "      <th>PlanId</th>\n",
       "      <th>MetalLevel</th>\n",
       "      <th>TEHBInnTier1FamilyMOOP</th>\n",
       "      <th>TEHBInnTier1IndividualMOOP</th>\n",
       "    </tr>\n",
       "  </thead>\n",
       "  <tbody>\n",
       "    <tr>\n",
       "      <th>0</th>\n",
       "      <td>0</td>\n",
       "      <td>2014</td>\n",
       "      <td>AK</td>\n",
       "      <td>21989</td>\n",
       "      <td>2014-03-19 07:06:49</td>\n",
       "      <td>21989AK0020002-00</td>\n",
       "      <td>Low</td>\n",
       "      <td>NaN</td>\n",
       "      <td>NaN</td>\n",
       "    </tr>\n",
       "    <tr>\n",
       "      <th>1</th>\n",
       "      <td>1</td>\n",
       "      <td>2014</td>\n",
       "      <td>AK</td>\n",
       "      <td>21989</td>\n",
       "      <td>2014-03-19 07:06:49</td>\n",
       "      <td>21989AK0020002-01</td>\n",
       "      <td>Low</td>\n",
       "      <td>NaN</td>\n",
       "      <td>NaN</td>\n",
       "    </tr>\n",
       "    <tr>\n",
       "      <th>2</th>\n",
       "      <td>2</td>\n",
       "      <td>2014</td>\n",
       "      <td>AK</td>\n",
       "      <td>21989</td>\n",
       "      <td>2014-03-19 07:06:49</td>\n",
       "      <td>21989AK0020001-00</td>\n",
       "      <td>High</td>\n",
       "      <td>NaN</td>\n",
       "      <td>NaN</td>\n",
       "    </tr>\n",
       "  </tbody>\n",
       "</table>\n",
       "</div>"
      ],
      "text/plain": [
       "   Unnamed: 0  BusinessYear StateCode  IssuerId           ImportDate  \\\n",
       "0           0          2014        AK     21989  2014-03-19 07:06:49   \n",
       "1           1          2014        AK     21989  2014-03-19 07:06:49   \n",
       "2           2          2014        AK     21989  2014-03-19 07:06:49   \n",
       "\n",
       "              PlanId MetalLevel TEHBInnTier1FamilyMOOP  \\\n",
       "0  21989AK0020002-00        Low                    NaN   \n",
       "1  21989AK0020002-01        Low                    NaN   \n",
       "2  21989AK0020001-00       High                    NaN   \n",
       "\n",
       "  TEHBInnTier1IndividualMOOP  \n",
       "0                        NaN  \n",
       "1                        NaN  \n",
       "2                        NaN  "
      ]
     },
     "execution_count": 24,
     "metadata": {},
     "output_type": "execute_result"
    }
   ],
   "source": [
    "PlanAttributesData = pd.read_csv('PlanAttributes_Data.csv')\n",
    "PlanAttributesData.head(3)"
   ]
  },
  {
   "cell_type": "markdown",
   "metadata": {},
   "source": [
    "#### There are some Nan in 'TEHBInnTier1FamilyMOOP' column. Check if there is anything else in this column:"
   ]
  },
  {
   "cell_type": "code",
   "execution_count": 25,
   "metadata": {
    "collapsed": false,
    "scrolled": true
   },
   "outputs": [
    {
     "data": {
      "text/plain": [
       "array([nan, '$12,700', '$8,000', '$0', '$9,500', '$12,000', '$10,400',\n",
       "       '$2,500', '$1,000', '$10,000', '$1,500', '$7,000', '$3,000',\n",
       "       '$12,600', '$6,000', '$3,500', '$2,900', '$2,000', '$4,000',\n",
       "       '$12,500', '$11,000', '$9,600', '$9,000', '$4,500', '$5,500',\n",
       "       '$2,200', 'Not Applicable', '$2,800', '$1,150', '$1,240', '$5,000',\n",
       "       '$2,350', '$8,500', '$5,400', '$8,400', '$1,600', '$800', '$5,200',\n",
       "       '$1,200', '$2,400', '$4,200', '$6,400', '$3,800', '$7,200',\n",
       "       '$6,500', '$2,300', '$1,300', '$9,200', '$8,800', '$11,500',\n",
       "       '$2,700', '$5,300', '$10,500', '$4,300', '$1,400', '$950', '$7,300',\n",
       "       '$5,840', '$9,800', '$8,200', '$3,400', '$5,600', '$7,500',\n",
       "       '$6,250', '$7,050', '$6,300', '$4,700', '$3,200', '$9,300',\n",
       "       '$1,100', '$10,200', '$10,300', '$7,700', '$3,100', '$9,750',\n",
       "       '$9,100', '$12,200', '$4,400', '$9,400', '$7,400', '$11,200',\n",
       "       '$700', '$400', '$2,600', '$4,600', '$3,300', '$7,900', '$11,400',\n",
       "       '$10,600', '$3,600', '$5,900', '$8,300', '$1,700', '$6,800',\n",
       "       '$5,350', '$1,660', '$11,600', '$4,230', '$10,160', '$8,250',\n",
       "       '$1,508', '$7,600', '$900', '$500', '$600', '$10,360', '$3,700',\n",
       "       '$9,700', '$5,800', '$3,750', '$7,800', '$8,700', '$3,900',\n",
       "       '$12,650', '$10,338', '$6,750', '$12,675', '$6,600', '$1,900',\n",
       "       '$6,900', '$12,400', '$13,200', '$12,900', '$12,800', '$13,000',\n",
       "       '$11,300', '$850', '$6,200', '$11,800', '$12,450', '$9,150',\n",
       "       '$9,900', '$4,100', '$13,100', '$1,650', '$4,800', '$300', '$9,850',\n",
       "       '$3,250', '$10,950', '$7,450', '$11,900', '$4,150', '$4,250',\n",
       "       '$1,250', '$12,050', '$8,150', '$3,050', '$2,950', '$11,150',\n",
       "       '$6,700', '$11,750', '$6,350', '$11,100', '$9,050', '$11,550',\n",
       "       '$11,450', '$10,850', '$9,650', '$7,650', '$11,250', '$11,700',\n",
       "       '$9,950', '$9,450', '$3,650', '$1,750', '$3,850', '$1,450',\n",
       "       '$6,150', '$11,050', '$10,050', '$10,700', '$8,850', '$6,950',\n",
       "       '$7,850', '$3,450', '$12,700.00', '$8,900', '$1,350', '$1,050',\n",
       "       '$10,800', '$7,100', '$1,520', '$12700', '$10400', '$4200', '$1700',\n",
       "       '$8,100', '$5,100', '$12,550', '$7000', '$5000', '$4000', '$9000',\n",
       "       '$12000', '$3000', '$12900', '$1000', '$12500', '$13200', '$4500',\n",
       "       '$1500', '$8,600', '$1,800', '$2,100', '$10,100'], dtype=object)"
      ]
     },
     "execution_count": 25,
     "metadata": {},
     "output_type": "execute_result"
    }
   ],
   "source": [
    "PlanAttributesData.TEHBInnTier1FamilyMOOP.unique()"
   ]
  },
  {
   "cell_type": "markdown",
   "metadata": {},
   "source": [
    "#### Clean the dollar icons and ','"
   ]
  },
  {
   "cell_type": "code",
   "execution_count": 26,
   "metadata": {
    "collapsed": false
   },
   "outputs": [
    {
     "data": {
      "text/html": [
       "<div>\n",
       "<table border=\"1\" class=\"dataframe\">\n",
       "  <thead>\n",
       "    <tr style=\"text-align: right;\">\n",
       "      <th></th>\n",
       "      <th>Unnamed: 0</th>\n",
       "      <th>BusinessYear</th>\n",
       "      <th>StateCode</th>\n",
       "      <th>IssuerId</th>\n",
       "      <th>ImportDate</th>\n",
       "      <th>PlanId</th>\n",
       "      <th>MetalLevel</th>\n",
       "      <th>TEHBInnTier1FamilyMOOP</th>\n",
       "      <th>TEHBInnTier1IndividualMOOP</th>\n",
       "    </tr>\n",
       "  </thead>\n",
       "  <tbody>\n",
       "    <tr>\n",
       "      <th>0</th>\n",
       "      <td>0</td>\n",
       "      <td>2014</td>\n",
       "      <td>AK</td>\n",
       "      <td>21989</td>\n",
       "      <td>2014-03-19 07:06:49</td>\n",
       "      <td>21989AK0020002-00</td>\n",
       "      <td>Low</td>\n",
       "      <td>NaN</td>\n",
       "      <td>NaN</td>\n",
       "    </tr>\n",
       "    <tr>\n",
       "      <th>1</th>\n",
       "      <td>1</td>\n",
       "      <td>2014</td>\n",
       "      <td>AK</td>\n",
       "      <td>21989</td>\n",
       "      <td>2014-03-19 07:06:49</td>\n",
       "      <td>21989AK0020002-01</td>\n",
       "      <td>Low</td>\n",
       "      <td>NaN</td>\n",
       "      <td>NaN</td>\n",
       "    </tr>\n",
       "    <tr>\n",
       "      <th>2</th>\n",
       "      <td>2</td>\n",
       "      <td>2014</td>\n",
       "      <td>AK</td>\n",
       "      <td>21989</td>\n",
       "      <td>2014-03-19 07:06:49</td>\n",
       "      <td>21989AK0020001-00</td>\n",
       "      <td>High</td>\n",
       "      <td>NaN</td>\n",
       "      <td>NaN</td>\n",
       "    </tr>\n",
       "  </tbody>\n",
       "</table>\n",
       "</div>"
      ],
      "text/plain": [
       "   Unnamed: 0  BusinessYear StateCode  IssuerId           ImportDate  \\\n",
       "0           0          2014        AK     21989  2014-03-19 07:06:49   \n",
       "1           1          2014        AK     21989  2014-03-19 07:06:49   \n",
       "2           2          2014        AK     21989  2014-03-19 07:06:49   \n",
       "\n",
       "              PlanId MetalLevel TEHBInnTier1FamilyMOOP  \\\n",
       "0  21989AK0020002-00        Low                    NaN   \n",
       "1  21989AK0020002-01        Low                    NaN   \n",
       "2  21989AK0020001-00       High                    NaN   \n",
       "\n",
       "  TEHBInnTier1IndividualMOOP  \n",
       "0                        NaN  \n",
       "1                        NaN  \n",
       "2                        NaN  "
      ]
     },
     "execution_count": 26,
     "metadata": {},
     "output_type": "execute_result"
    }
   ],
   "source": [
    "PlanAttributesData['TEHBInnTier1FamilyMOOP']=PlanAttributesData['TEHBInnTier1FamilyMOOP'].str.replace('$','').str.replace(',','')\n",
    "PlanAttributesData.head(3)"
   ]
  },
  {
   "cell_type": "markdown",
   "metadata": {},
   "source": [
    "#### Delete all the 'Not Applicable' rows:"
   ]
  },
  {
   "cell_type": "code",
   "execution_count": 27,
   "metadata": {
    "collapsed": false
   },
   "outputs": [],
   "source": [
    "PlanAttributesData=PlanAttributesData.drop(PlanAttributesData[PlanAttributesData['TEHBInnTier1FamilyMOOP']=='Not Applicable'].index)"
   ]
  },
  {
   "cell_type": "markdown",
   "metadata": {},
   "source": [
    "#### Delete all the NAN rows:"
   ]
  },
  {
   "cell_type": "code",
   "execution_count": 28,
   "metadata": {
    "collapsed": true
   },
   "outputs": [],
   "source": [
    "PlanAttributesData['TEHBInnTier1FamilyMOOP']=PlanAttributesData['TEHBInnTier1FamilyMOOP'].fillna(99999999)"
   ]
  },
  {
   "cell_type": "code",
   "execution_count": 29,
   "metadata": {
    "collapsed": false
   },
   "outputs": [],
   "source": [
    "PlanAttributesData=PlanAttributesData.drop(PlanAttributesData[PlanAttributesData['TEHBInnTier1FamilyMOOP']==99999999].index)"
   ]
  },
  {
   "cell_type": "markdown",
   "metadata": {
    "collapsed": false
   },
   "source": [
    "#### Change the 'ImportDate' column to date time type:"
   ]
  },
  {
   "cell_type": "code",
   "execution_count": 30,
   "metadata": {
    "collapsed": true
   },
   "outputs": [],
   "source": [
    "PlanAttributesData['ImportDate']=PlanAttributesData['ImportDate'].apply(pd.to_datetime)"
   ]
  },
  {
   "cell_type": "markdown",
   "metadata": {},
   "source": [
    "#### Change the 'TEHBInnTier1FamilyMOOP' to 'Family_Up_Limit':"
   ]
  },
  {
   "cell_type": "code",
   "execution_count": 31,
   "metadata": {
    "collapsed": false
   },
   "outputs": [],
   "source": [
    "PlanAttributesData['Family_Up_Limit']=''"
   ]
  },
  {
   "cell_type": "code",
   "execution_count": 32,
   "metadata": {
    "collapsed": false
   },
   "outputs": [],
   "source": [
    "for x in PlanAttributesData.index:\n",
    "    PlanAttributesData.ix[x,\"Family_Up_Limit\"]=float(PlanAttributesData.ix[x,'TEHBInnTier1FamilyMOOP'])\n",
    "PlanAttributesData['Family_Up_Limit']=PlanAttributesData['Family_Up_Limit'].astype(int) # Transfer object to int"
   ]
  },
  {
   "cell_type": "markdown",
   "metadata": {},
   "source": [
    "#### Change the 'TEHBInnTier1IndividualMOOP' to 'Individual_Up_Limit':"
   ]
  },
  {
   "cell_type": "code",
   "execution_count": 33,
   "metadata": {
    "collapsed": false
   },
   "outputs": [
    {
     "data": {
      "text/html": [
       "<div>\n",
       "<table border=\"1\" class=\"dataframe\">\n",
       "  <thead>\n",
       "    <tr style=\"text-align: right;\">\n",
       "      <th></th>\n",
       "      <th>Unnamed: 0</th>\n",
       "      <th>BusinessYear</th>\n",
       "      <th>StateCode</th>\n",
       "      <th>IssuerId</th>\n",
       "      <th>ImportDate</th>\n",
       "      <th>PlanId</th>\n",
       "      <th>MetalLevel</th>\n",
       "      <th>TEHBInnTier1FamilyMOOP</th>\n",
       "      <th>TEHBInnTier1IndividualMOOP</th>\n",
       "      <th>Family_Up_Limit</th>\n",
       "      <th>Individual_Up_Limit</th>\n",
       "    </tr>\n",
       "  </thead>\n",
       "  <tbody>\n",
       "    <tr>\n",
       "      <th>6</th>\n",
       "      <td>6</td>\n",
       "      <td>2014</td>\n",
       "      <td>AK</td>\n",
       "      <td>73836</td>\n",
       "      <td>2014-04-18 11:49:29</td>\n",
       "      <td>73836AK0650002-00</td>\n",
       "      <td>Bronze</td>\n",
       "      <td>12700</td>\n",
       "      <td>6350</td>\n",
       "      <td>12700</td>\n",
       "      <td>6350</td>\n",
       "    </tr>\n",
       "    <tr>\n",
       "      <th>7</th>\n",
       "      <td>7</td>\n",
       "      <td>2014</td>\n",
       "      <td>AK</td>\n",
       "      <td>73836</td>\n",
       "      <td>2014-04-18 11:49:29</td>\n",
       "      <td>73836AK0680004-00</td>\n",
       "      <td>Gold</td>\n",
       "      <td>8000</td>\n",
       "      <td>4000</td>\n",
       "      <td>8000</td>\n",
       "      <td>4000</td>\n",
       "    </tr>\n",
       "    <tr>\n",
       "      <th>8</th>\n",
       "      <td>8</td>\n",
       "      <td>2014</td>\n",
       "      <td>AK</td>\n",
       "      <td>73836</td>\n",
       "      <td>2014-04-18 11:49:29</td>\n",
       "      <td>73836AK0680004-01</td>\n",
       "      <td>Gold</td>\n",
       "      <td>8000</td>\n",
       "      <td>4000</td>\n",
       "      <td>8000</td>\n",
       "      <td>4000</td>\n",
       "    </tr>\n",
       "  </tbody>\n",
       "</table>\n",
       "</div>"
      ],
      "text/plain": [
       "   Unnamed: 0  BusinessYear StateCode  IssuerId          ImportDate  \\\n",
       "6           6          2014        AK     73836 2014-04-18 11:49:29   \n",
       "7           7          2014        AK     73836 2014-04-18 11:49:29   \n",
       "8           8          2014        AK     73836 2014-04-18 11:49:29   \n",
       "\n",
       "              PlanId MetalLevel TEHBInnTier1FamilyMOOP  \\\n",
       "6  73836AK0650002-00     Bronze                  12700   \n",
       "7  73836AK0680004-00       Gold                   8000   \n",
       "8  73836AK0680004-01       Gold                   8000   \n",
       "\n",
       "  TEHBInnTier1IndividualMOOP  Family_Up_Limit  Individual_Up_Limit  \n",
       "6                       6350            12700                 6350  \n",
       "7                       4000             8000                 4000  \n",
       "8                       4000             8000                 4000  "
      ]
     },
     "execution_count": 33,
     "metadata": {},
     "output_type": "execute_result"
    }
   ],
   "source": [
    "PlanAttributesData['TEHBInnTier1IndividualMOOP']=PlanAttributesData['TEHBInnTier1IndividualMOOP'].str.replace('$','').str.replace(',','')\n",
    "PlanAttributesData['Individual_Up_Limit']=''\n",
    "for x in PlanAttributesData.index:\n",
    "    PlanAttributesData.ix[x,\"Individual_Up_Limit\"]=float(PlanAttributesData.ix[x,'TEHBInnTier1IndividualMOOP'])\n",
    "PlanAttributesData['Individual_Up_Limit']=PlanAttributesData['Individual_Up_Limit'].astype(int) # Transfer object to int\n",
    "PlanAttributesData.head(3)"
   ]
  },
  {
   "cell_type": "markdown",
   "metadata": {
    "collapsed": false
   },
   "source": [
    "#### Drop the useless columns:"
   ]
  },
  {
   "cell_type": "code",
   "execution_count": 34,
   "metadata": {
    "collapsed": false
   },
   "outputs": [
    {
     "data": {
      "text/html": [
       "<div>\n",
       "<table border=\"1\" class=\"dataframe\">\n",
       "  <thead>\n",
       "    <tr style=\"text-align: right;\">\n",
       "      <th></th>\n",
       "      <th>Unnamed: 0</th>\n",
       "      <th>BusinessYear</th>\n",
       "      <th>StateCode</th>\n",
       "      <th>IssuerId</th>\n",
       "      <th>ImportDate</th>\n",
       "      <th>PlanId</th>\n",
       "      <th>MetalLevel</th>\n",
       "      <th>Family_Up_Limit</th>\n",
       "      <th>Individual_Up_Limit</th>\n",
       "    </tr>\n",
       "  </thead>\n",
       "  <tbody>\n",
       "    <tr>\n",
       "      <th>6</th>\n",
       "      <td>6</td>\n",
       "      <td>2014</td>\n",
       "      <td>AK</td>\n",
       "      <td>73836</td>\n",
       "      <td>2014-04-18 11:49:29</td>\n",
       "      <td>73836AK0650002-00</td>\n",
       "      <td>Bronze</td>\n",
       "      <td>12700</td>\n",
       "      <td>6350</td>\n",
       "    </tr>\n",
       "    <tr>\n",
       "      <th>7</th>\n",
       "      <td>7</td>\n",
       "      <td>2014</td>\n",
       "      <td>AK</td>\n",
       "      <td>73836</td>\n",
       "      <td>2014-04-18 11:49:29</td>\n",
       "      <td>73836AK0680004-00</td>\n",
       "      <td>Gold</td>\n",
       "      <td>8000</td>\n",
       "      <td>4000</td>\n",
       "    </tr>\n",
       "    <tr>\n",
       "      <th>8</th>\n",
       "      <td>8</td>\n",
       "      <td>2014</td>\n",
       "      <td>AK</td>\n",
       "      <td>73836</td>\n",
       "      <td>2014-04-18 11:49:29</td>\n",
       "      <td>73836AK0680004-01</td>\n",
       "      <td>Gold</td>\n",
       "      <td>8000</td>\n",
       "      <td>4000</td>\n",
       "    </tr>\n",
       "  </tbody>\n",
       "</table>\n",
       "</div>"
      ],
      "text/plain": [
       "   Unnamed: 0  BusinessYear StateCode  IssuerId          ImportDate  \\\n",
       "6           6          2014        AK     73836 2014-04-18 11:49:29   \n",
       "7           7          2014        AK     73836 2014-04-18 11:49:29   \n",
       "8           8          2014        AK     73836 2014-04-18 11:49:29   \n",
       "\n",
       "              PlanId MetalLevel  Family_Up_Limit  Individual_Up_Limit  \n",
       "6  73836AK0650002-00     Bronze            12700                 6350  \n",
       "7  73836AK0680004-00       Gold             8000                 4000  \n",
       "8  73836AK0680004-01       Gold             8000                 4000  "
      ]
     },
     "execution_count": 34,
     "metadata": {},
     "output_type": "execute_result"
    }
   ],
   "source": [
    "PlanAttributesData=PlanAttributesData.drop(PlanAttributesData[[7,8]],1)\n",
    "PlanAttributesData.head(3)"
   ]
  },
  {
   "cell_type": "code",
   "execution_count": 35,
   "metadata": {
    "collapsed": false
   },
   "outputs": [
    {
     "data": {
      "text/html": [
       "<div>\n",
       "<table border=\"1\" class=\"dataframe\">\n",
       "  <thead>\n",
       "    <tr style=\"text-align: right;\">\n",
       "      <th></th>\n",
       "      <th>BusinessYear</th>\n",
       "      <th>StateCode</th>\n",
       "      <th>IssuerId</th>\n",
       "      <th>ImportDate</th>\n",
       "      <th>PlanId</th>\n",
       "      <th>MetalLevel</th>\n",
       "      <th>Family_Up_Limit</th>\n",
       "      <th>Individual_Up_Limit</th>\n",
       "    </tr>\n",
       "  </thead>\n",
       "  <tbody>\n",
       "    <tr>\n",
       "      <th>6</th>\n",
       "      <td>2014</td>\n",
       "      <td>AK</td>\n",
       "      <td>73836</td>\n",
       "      <td>2014-04-18 11:49:29</td>\n",
       "      <td>73836AK0650002-00</td>\n",
       "      <td>Bronze</td>\n",
       "      <td>12700</td>\n",
       "      <td>6350</td>\n",
       "    </tr>\n",
       "    <tr>\n",
       "      <th>7</th>\n",
       "      <td>2014</td>\n",
       "      <td>AK</td>\n",
       "      <td>73836</td>\n",
       "      <td>2014-04-18 11:49:29</td>\n",
       "      <td>73836AK0680004-00</td>\n",
       "      <td>Gold</td>\n",
       "      <td>8000</td>\n",
       "      <td>4000</td>\n",
       "    </tr>\n",
       "    <tr>\n",
       "      <th>8</th>\n",
       "      <td>2014</td>\n",
       "      <td>AK</td>\n",
       "      <td>73836</td>\n",
       "      <td>2014-04-18 11:49:29</td>\n",
       "      <td>73836AK0680004-01</td>\n",
       "      <td>Gold</td>\n",
       "      <td>8000</td>\n",
       "      <td>4000</td>\n",
       "    </tr>\n",
       "  </tbody>\n",
       "</table>\n",
       "</div>"
      ],
      "text/plain": [
       "   BusinessYear StateCode  IssuerId          ImportDate             PlanId  \\\n",
       "6          2014        AK     73836 2014-04-18 11:49:29  73836AK0650002-00   \n",
       "7          2014        AK     73836 2014-04-18 11:49:29  73836AK0680004-00   \n",
       "8          2014        AK     73836 2014-04-18 11:49:29  73836AK0680004-01   \n",
       "\n",
       "  MetalLevel  Family_Up_Limit  Individual_Up_Limit  \n",
       "6     Bronze            12700                 6350  \n",
       "7       Gold             8000                 4000  \n",
       "8       Gold             8000                 4000  "
      ]
     },
     "execution_count": 35,
     "metadata": {},
     "output_type": "execute_result"
    }
   ],
   "source": [
    "PlanAttributesData=PlanAttributesData.drop(PlanAttributesData[[0]],1)\n",
    "PlanAttributesData.head(3)"
   ]
  },
  {
   "cell_type": "markdown",
   "metadata": {},
   "source": [
    "#### The Plan Attributes dataset is proper to use for visualisation and prediction."
   ]
  },
  {
   "cell_type": "markdown",
   "metadata": {},
   "source": [
    "## 2. Visualization"
   ]
  },
  {
   "cell_type": "code",
   "execution_count": 36,
   "metadata": {
    "collapsed": true
   },
   "outputs": [],
   "source": [
    "import matplotlib\n",
    "import matplotlib.pyplot as plt\n",
    "import pandas as pd\n",
    "import numpy as np\n",
    "import seaborn as sns\n",
    "sns.set(style=\"ticks\")\n",
    "from pylab import rcParams\n",
    "%matplotlib inline\n",
    "matplotlib.style.use('ggplot')\n",
    "rcParams['figure.figsize'] = 15, 10\n",
    "rcParams['font.size'] = 20\n",
    "rcParams['axes.facecolor'] = 'white'"
   ]
  },
  {
   "cell_type": "markdown",
   "metadata": {
    "collapsed": true
   },
   "source": [
    "### 2.1 Family Up Limit Analysis (KDE)"
   ]
  },
  {
   "cell_type": "markdown",
   "metadata": {},
   "source": [
    "#### If we have a family health insurance, we really should care about the family out-of-pocket cost limit for medical and drug EHB benefits. We can use KDE to watch these limits clearly:"
   ]
  },
  {
   "cell_type": "code",
   "execution_count": 37,
   "metadata": {
    "collapsed": false
   },
   "outputs": [
    {
     "data": {
      "text/plain": [
       "(0, 13500)"
      ]
     },
     "execution_count": 37,
     "metadata": {},
     "output_type": "execute_result"
    },
    {
     "data": {
      "image/png": "[encoded data removed]",
      "text/plain": [
       "<matplotlib.figure.Figure at 0x4429a1d0>"
      ]
     },
     "metadata": {},
     "output_type": "display_data"
    }
   ],
   "source": [
    "fig, ax = plt.subplots(figsize=(15,10))\n",
    "PlanAttributesData.Family_Up_Limit.hist(bins=30, normed=True, alpha=0.4, color='grey')\n",
    "PlanAttributesData.Family_Up_Limit.plot(kind='kde', title='Family Up Limit', label='KDE pandas')\n",
    "sns.kdeplot(PlanAttributesData.Family_Up_Limit, bw=20, color='black', lw=1.0, label='KDE seaborn')\n",
    "plt.xlim([0,13500])"
   ]
  },
  {
   "cell_type": "markdown",
   "metadata": {},
   "source": [
    "#### As the KDE chart shows, lots of plan limits are 0, that means these plans are for the poor people who need help. And we can find that most limits are more than 12000, that means the U.S. insurance issurers like focusing on high-end plan products. Maybe that's why Americans usually spend loads of money on their health insurance.\n",
    "#### The eye is much better at judging distances than areas, so we can find the the result easily by the CDF line's trend:"
   ]
  },
  {
   "cell_type": "code",
   "execution_count": 38,
   "metadata": {
    "collapsed": false
   },
   "outputs": [
    {
     "data": {
      "text/plain": [
       "(0, 13500)"
      ]
     },
     "execution_count": 38,
     "metadata": {},
     "output_type": "execute_result"
    },
    {
     "data": {
      "image/png": "[encoded data removed]",
      "text/plain": [
       "<matplotlib.figure.Figure at 0x23b110f0>"
      ]
     },
     "metadata": {},
     "output_type": "display_data"
    }
   ],
   "source": [
    "sns.kdeplot(PlanAttributesData.Family_Up_Limit, cumulative=True, label='CDF')\n",
    "PlanAttributesData.Family_Up_Limit.hist(bins=30, normed=True, alpha=0.2, color='grey')\n",
    "plt.xlim([0,13500])"
   ]
  },
  {
   "cell_type": "markdown",
   "metadata": {},
   "source": [
    "### 2.2  State Rate Analysis"
   ]
  },
  {
   "cell_type": "markdown",
   "metadata": {},
   "source": [
    "#### There are 50 states in America. Are the individual rates same in so many states? Check by boxplot below:"
   ]
  },
  {
   "cell_type": "code",
   "execution_count": 39,
   "metadata": {
    "collapsed": false
   },
   "outputs": [
    {
     "data": {
      "text/plain": [
       "<matplotlib.text.Text at 0x717e1c18>"
      ]
     },
     "execution_count": 39,
     "metadata": {},
     "output_type": "execute_result"
    },
    {
     "data": {
      "image/png": "[encoded data removed]",
      "text/plain": [
       "<matplotlib.figure.Figure at 0x4f32bac8>"
      ]
     },
     "metadata": {},
     "output_type": "display_data"
    }
   ],
   "source": [
    "sns.boxplot(x=\"StateCode\", y=\"IndividualRate\", data=RateData_FO, color=\"c\")\n",
    "\n",
    "sns.despine(left=True, bottom=True)\n",
    "\n",
    "plt.ylabel('Individual Rate', alpha=0.75)\n",
    "plt.xlabel('State Code', alpha=0.75)\n",
    "plt.title('Distribution of Individual Rate by State Code \\n for the Rate Dataset', alpha=0.75)"
   ]
  },
  {
   "cell_type": "markdown",
   "metadata": {
    "collapsed": false
   },
   "source": [
    "#### There are big differences between the states. It's clear that the individual rates in DE, AK and MS are very high. Why is it so high? Do the people in these states have enough plan choices? Use \"groupby\" to coculate it below: "
   ]
  },
  {
   "cell_type": "code",
   "execution_count": 40,
   "metadata": {
    "collapsed": false
   },
   "outputs": [
    {
     "name": "stderr",
     "output_type": "stream",
     "text": [
      "D:\\WinPython-64bit-2.7.10.3\\python-2.7.10.amd64\\lib\\site-packages\\ipykernel\\__main__.py:2: FutureWarning: order is deprecated, use sort_values(...)\n",
      "  from ipykernel import kernelapp as app\n"
     ]
    },
    {
     "data": {
      "text/plain": [
       "<matplotlib.text.Text at 0x288b9cf8>"
      ]
     },
     "execution_count": 40,
     "metadata": {},
     "output_type": "execute_result"
    },
    {
     "data": {
      "image/png": "[encoded data removed]",
      "text/plain": [
       "<matplotlib.figure.Figure at 0x23b115c0>"
      ]
     },
     "metadata": {},
     "output_type": "display_data"
    }
   ],
   "source": [
    "Plans_grouped = RateData_FO['PlanId'].groupby(RateData_FO['StateCode'])\n",
    "Plans_grouped.count().order(ascending=False).plot(kind='bar')\n",
    "plt.ylabel('Plan Number', alpha=0.75)\n",
    "plt.xlabel('State Code', alpha=0.75)\n",
    "plt.title('Distribution of Plan Number by State Code \\n for the Rate Dataset', alpha=0.75)"
   ]
  },
  {
   "cell_type": "markdown",
   "metadata": {
    "collapsed": false
   },
   "source": [
    "#### The graph above shows the states where the plan offered. As It can be seen, there are fewer plan choices in DE, AK and MS states. The FL uses the plan more than the other states, so you can find the rates in this state are much cheaper. We can find why the competition is very important in the health insurance market.\n",
    "----------------------"
   ]
  },
  {
   "cell_type": "markdown",
   "metadata": {},
   "source": [
    "#### Calculate the median values for the rates in each states:"
   ]
  },
  {
   "cell_type": "code",
   "execution_count": 41,
   "metadata": {
    "collapsed": false
   },
   "outputs": [
    {
     "data": {
      "text/html": [
       "<div>\n",
       "<table border=\"1\" class=\"dataframe\">\n",
       "  <thead>\n",
       "    <tr style=\"text-align: right;\">\n",
       "      <th></th>\n",
       "      <th>IndividualRate</th>\n",
       "      <th>Couple</th>\n",
       "      <th>CoupleAndOneDependent</th>\n",
       "      <th>CoupleAndTwoDependents</th>\n",
       "      <th>CoupleAndThreeOrMoreDependents</th>\n",
       "    </tr>\n",
       "    <tr>\n",
       "      <th>StateCode</th>\n",
       "      <th></th>\n",
       "      <th></th>\n",
       "      <th></th>\n",
       "      <th></th>\n",
       "      <th></th>\n",
       "    </tr>\n",
       "  </thead>\n",
       "  <tbody>\n",
       "    <tr>\n",
       "      <th>AK</th>\n",
       "      <td>45.39</td>\n",
       "      <td>78.730</td>\n",
       "      <td>132.705</td>\n",
       "      <td>154.925</td>\n",
       "      <td>160.49</td>\n",
       "    </tr>\n",
       "    <tr>\n",
       "      <th>AL</th>\n",
       "      <td>25.70</td>\n",
       "      <td>37.985</td>\n",
       "      <td>58.445</td>\n",
       "      <td>77.865</td>\n",
       "      <td>105.05</td>\n",
       "    </tr>\n",
       "    <tr>\n",
       "      <th>AR</th>\n",
       "      <td>27.02</td>\n",
       "      <td>49.465</td>\n",
       "      <td>75.230</td>\n",
       "      <td>98.720</td>\n",
       "      <td>128.11</td>\n",
       "    </tr>\n",
       "  </tbody>\n",
       "</table>\n",
       "</div>"
      ],
      "text/plain": [
       "           IndividualRate  Couple  CoupleAndOneDependent  \\\n",
       "StateCode                                                  \n",
       "AK                  45.39  78.730                132.705   \n",
       "AL                  25.70  37.985                 58.445   \n",
       "AR                  27.02  49.465                 75.230   \n",
       "\n",
       "           CoupleAndTwoDependents  CoupleAndThreeOrMoreDependents  \n",
       "StateCode                                                          \n",
       "AK                        154.925                          160.49  \n",
       "AL                         77.865                          105.05  \n",
       "AR                         98.720                          128.11  "
      ]
     },
     "execution_count": 41,
     "metadata": {},
     "output_type": "execute_result"
    }
   ],
   "source": [
    "StateMedRate = RateData_FO.groupby('StateCode').median()\n",
    "StateMedRate = StateMedRate.drop(StateMedRate[[0,1]],1)\n",
    "StateMedRate.head(3)"
   ]
  },
  {
   "cell_type": "markdown",
   "metadata": {},
   "source": [
    "#### And we can find the relationship between the Individual Rate and family rates:"
   ]
  },
  {
   "cell_type": "code",
   "execution_count": 42,
   "metadata": {
    "collapsed": false
   },
   "outputs": [
    {
     "data": {
      "image/png": "[encoded data removed]",
      "text/plain": [
       "<matplotlib.figure.Figure at 0x9395afd0>"
      ]
     },
     "metadata": {},
     "output_type": "display_data"
    }
   ],
   "source": [
    "plt = sns.jointplot(\"IndividualRate\", \"CoupleAndThreeOrMoreDependents\", data=StateMedRate, kind=\"reg\", color=\"m\", size=10)\n",
    "sns.plt.show()"
   ]
  },
  {
   "cell_type": "markdown",
   "metadata": {},
   "source": [
    "#### As can be seen from the chart above, most individual rates are around 30 and most family rates are between 100 and 150, that means health insurance is still big expense for the American parents. Find the same result from another angle:"
   ]
  },
  {
   "cell_type": "code",
   "execution_count": 43,
   "metadata": {
    "collapsed": false
   },
   "outputs": [
    {
     "data": {
      "image/png": "[encoded data removed]",
      "text/plain": [
       "<matplotlib.figure.Figure at 0x7c2dbe80>"
      ]
     },
     "metadata": {},
     "output_type": "display_data"
    }
   ],
   "source": [
    "StateMedRate.plot(kind='scatter', x='Couple', y='CoupleAndThreeOrMoreDependents', c='IndividualRate', s=100);"
   ]
  },
  {
   "cell_type": "markdown",
   "metadata": {
    "collapsed": false
   },
   "source": [
    "## 3. Predictive Modelling"
   ]
  },
  {
   "cell_type": "markdown",
   "metadata": {},
   "source": [
    "### 3.1 Predict the Couple Rate by Individual Rate (kNN)"
   ]
  },
  {
   "cell_type": "markdown",
   "metadata": {},
   "source": [
    "#### Is there any clue linking the different Rates? We can try to find it by kNN. Predict the couple rate depend on Individual Rate:"
   ]
  },
  {
   "cell_type": "code",
   "execution_count": 44,
   "metadata": {
    "collapsed": false
   },
   "outputs": [
    {
     "name": "stdout",
     "output_type": "stream",
     "text": [
      "(36L, 1L)\n",
      "(36L, 1L)\n"
     ]
    }
   ],
   "source": [
    "X = StateMedRate.IndividualRate.values\n",
    "X = np.reshape(X, (len(StateMedRate.IndividualRate), 1))\n",
    "y = StateMedRate.Couple.values\n",
    "y = np.reshape(y, (len(StateMedRate.Couple), 1))\n",
    "\n",
    "print X.shape     \n",
    "print y.shape  "
   ]
  },
  {
   "cell_type": "markdown",
   "metadata": {},
   "source": [
    "#### Try k=5:"
   ]
  },
  {
   "cell_type": "code",
   "execution_count": 45,
   "metadata": {
    "collapsed": false
   },
   "outputs": [
    {
     "data": {
      "image/png": "[encoded data removed]",
      "text/plain": [
       "<matplotlib.figure.Figure at 0x5535e320>"
      ]
     },
     "metadata": {},
     "output_type": "display_data"
    }
   ],
   "source": [
    "from sklearn import neighbors\n",
    "import matplotlib.pyplot as plt\n",
    "\n",
    "rcParams['figure.figsize'] = 14, 8\n",
    "\n",
    "x = np.linspace(20, 50, 400)[:, np.newaxis]\n",
    "n_neighbors=5\n",
    "\n",
    "for i, weights in enumerate(['uniform', 'distance']):\n",
    "    knn = neighbors.KNeighborsRegressor(n_neighbors, weights=weights)\n",
    "    yp = knn.fit(X, y).predict(x)\n",
    "    \n",
    "    plt.subplot(2, 1, i + 1)\n",
    "    plt.scatter(X, y, c='k', label='data')\n",
    "    plt.plot(x, yp, c='b', label='prediction')\n",
    "    plt.axis('tight')\n",
    "    plt.xlabel('Individual Rate')\n",
    "    plt.legend(loc='upper left')\n",
    "    plt.title(\"KNeighborsRegressor (k = %i, weights = '%s')\" % (n_neighbors, weights))\n",
    "    plt.subplots_adjust( hspace=0.5)\n",
    "    \n",
    "plt.show()"
   ]
  },
  {
   "cell_type": "markdown",
   "metadata": {},
   "source": [
    "#### Now we get the prediction about the Couple value. In this model I make k=5, but is it a good value for k? We need to coculate the best value for our prediction. First train the model and create the predicted values:"
   ]
  },
  {
   "cell_type": "code",
   "execution_count": 46,
   "metadata": {
    "collapsed": false
   },
   "outputs": [],
   "source": [
    "from sklearn import neighbors\n",
    "knn = neighbors.KNeighborsRegressor(n_neighbors=5, weights='uniform')\n",
    "mod = knn.fit(X, y)"
   ]
  },
  {
   "cell_type": "code",
   "execution_count": 47,
   "metadata": {
    "collapsed": true
   },
   "outputs": [],
   "source": [
    "x = np.reshape(StateMedRate.IndividualRate.values, (len(StateMedRate.IndividualRate), 1)) + 0.001\n",
    "y_hat = mod.predict(x)"
   ]
  },
  {
   "cell_type": "markdown",
   "metadata": {},
   "source": [
    "#### Make a definition to calculate the r square and rmse:"
   ]
  },
  {
   "cell_type": "code",
   "execution_count": 48,
   "metadata": {
    "collapsed": true
   },
   "outputs": [],
   "source": [
    "def calculate_regression_goodness_of_fit(ys, y_hat):\n",
    "    ss_total = 0\n",
    "    ss_residual = 0\n",
    "    ss_regression = 0\n",
    "    y_mean = y.mean()\n",
    "    \n",
    "    for i in range(len(ys)):\n",
    "        ss_total += np.square(ys[i] - y_mean)\n",
    "        ss_residual += np.square(ys[i] - y_hat[i])\n",
    "        ss_regression += np.square(y_hat[i] - y_mean)\n",
    "    \n",
    "    r_square = ss_regression / ss_total\n",
    "    rmse = np.sqrt( ss_residual / float(len(ys)) )\n",
    "    \n",
    "    return r_square[0], rmse[0]"
   ]
  },
  {
   "cell_type": "code",
   "execution_count": 49,
   "metadata": {
    "collapsed": false
   },
   "outputs": [
    {
     "data": {
      "text/plain": [
       "(1.0644539669122659, 15.561268876129294)"
      ]
     },
     "execution_count": 49,
     "metadata": {},
     "output_type": "execute_result"
    }
   ],
   "source": [
    "calculate_regression_goodness_of_fit(y, yp)"
   ]
  },
  {
   "cell_type": "markdown",
   "metadata": {},
   "source": [
    "#### Use loop to calculate the arrays:"
   ]
  },
  {
   "cell_type": "code",
   "execution_count": 50,
   "metadata": {
    "collapsed": false
   },
   "outputs": [],
   "source": [
    "rsquare_arr = []\n",
    "rmse_arr = []\n",
    "\n",
    "for k in range(2, len(y)):\n",
    "    knn = neighbors.KNeighborsRegressor(n_neighbors=k)\n",
    "    y_hat = knn.fit(X, y).predict(x)\n",
    "    rsquare, rmse = calculate_regression_goodness_of_fit(y, y_hat)\n",
    "    rmse_arr.append(rmse)\n",
    "    rsquare_arr.append(rsquare)"
   ]
  },
  {
   "cell_type": "markdown",
   "metadata": {},
   "source": [
    "#### Plot now:"
   ]
  },
  {
   "cell_type": "code",
   "execution_count": 51,
   "metadata": {
    "collapsed": false
   },
   "outputs": [
    {
     "data": {
      "text/plain": [
       "<matplotlib.text.Text at 0x51045240>"
      ]
     },
     "execution_count": 51,
     "metadata": {},
     "output_type": "execute_result"
    },
    {
     "data": {
      "image/png": "[encoded data removed]",
      "text/plain": [
       "<matplotlib.figure.Figure at 0x2f4b42e8>"
      ]
     },
     "metadata": {},
     "output_type": "display_data"
    }
   ],
   "source": [
    "plt.subplot(2, 1, 1)\n",
    "plt.plot(range(2, 36), rsquare_arr, c='k', label='R Square')\n",
    "plt.axis('tight')\n",
    "plt.xlabel('k number of nearest neighbours')\n",
    "plt.ylabel('RSquare')\n",
    "plt.legend(loc='upper left')\n",
    "plt.title(\"RSquare for the KNeighborsRegressor\")\n",
    "plt.subplots_adjust( hspace=0.5)\n",
    "\n",
    "plt.subplot(2, 1, 2)\n",
    "plt.plot(range(2, 36), rmse_arr, c='k', label='RMSE')\n",
    "plt.axis('tight')\n",
    "plt.xlabel('k number of nearest neighbours')\n",
    "plt.ylabel('RMSE')\n",
    "plt.legend(loc='upper left')\n",
    "plt.title(\"RMSE for the KNeighborsRegressor\")"
   ]
  },
  {
   "cell_type": "markdown",
   "metadata": {},
   "source": [
    "#### It's clear that 2 is the best value for k from the above plots. Use it for the predictive model:"
   ]
  },
  {
   "cell_type": "code",
   "execution_count": 52,
   "metadata": {
    "collapsed": false
   },
   "outputs": [
    {
     "data": {
      "image/png": "[encoded data removed]",
      "text/plain": [
       "<matplotlib.figure.Figure at 0x676e2e48>"
      ]
     },
     "metadata": {},
     "output_type": "display_data"
    }
   ],
   "source": [
    "from sklearn import neighbors\n",
    "rcParams['figure.figsize'] = 14, 8\n",
    "\n",
    "x = np.linspace(20, 50, 400)[:, np.newaxis]\n",
    "n_neighbors=2\n",
    "\n",
    "for i, weights in enumerate(['uniform', 'distance']):\n",
    "    knn = neighbors.KNeighborsRegressor(n_neighbors, weights=weights)\n",
    "    yp = knn.fit(X, y).predict(x)\n",
    "    \n",
    "    plt.subplot(2, 1, i + 1)\n",
    "    plt.scatter(X, y, c='k', label='data')\n",
    "    plt.plot(x, yp, c='b', label='prediction')\n",
    "    plt.axis('tight')\n",
    "    plt.xlabel('Individual Rate')\n",
    "    plt.legend(loc='upper left')\n",
    "    plt.title(\"KNeighborsRegressor (k = %i, weights = '%s')\" % (n_neighbors, weights))\n",
    "    plt.subplots_adjust( hspace=0.5)\n",
    "    \n",
    "plt.show()"
   ]
  },
  {
   "cell_type": "markdown",
   "metadata": {
    "collapsed": true
   },
   "source": [
    "#### Now we get the clue linking the Individual Rates and the Couple Rates."
   ]
  },
  {
   "cell_type": "markdown",
   "metadata": {
    "collapsed": false
   },
   "source": [
    "### 3.2 Predict State by Rates (Classification)"
   ]
  },
  {
   "cell_type": "markdown",
   "metadata": {},
   "source": [
    "#### The rates of plans are different for different State. If we have a plan with five rates, can we predict which state is it most probably for? No problem, we can make it by Python.\n",
    "#### First, import GaussianNB:"
   ]
  },
  {
   "cell_type": "code",
   "execution_count": 53,
   "metadata": {
    "collapsed": true
   },
   "outputs": [],
   "source": [
    "from sklearn.naive_bayes import GaussianNB\n",
    "nb = GaussianNB()"
   ]
  },
  {
   "cell_type": "code",
   "execution_count": 54,
   "metadata": {
    "collapsed": false
   },
   "outputs": [
    {
     "data": {
      "text/html": [
       "<div>\n",
       "<table border=\"1\" class=\"dataframe\">\n",
       "  <thead>\n",
       "    <tr style=\"text-align: right;\">\n",
       "      <th></th>\n",
       "      <th>BusinessYear</th>\n",
       "      <th>StateCode</th>\n",
       "      <th>IssuerId</th>\n",
       "      <th>ImportDate</th>\n",
       "      <th>PlanId</th>\n",
       "      <th>Age</th>\n",
       "      <th>IndividualRate</th>\n",
       "      <th>Couple</th>\n",
       "      <th>CoupleAndOneDependent</th>\n",
       "      <th>CoupleAndTwoDependents</th>\n",
       "      <th>CoupleAndThreeOrMoreDependents</th>\n",
       "    </tr>\n",
       "  </thead>\n",
       "  <tbody>\n",
       "    <tr>\n",
       "      <th>1</th>\n",
       "      <td>2014</td>\n",
       "      <td>AK</td>\n",
       "      <td>21989</td>\n",
       "      <td>2014-03-19 07:06:49</td>\n",
       "      <td>21989AK0020001</td>\n",
       "      <td>Family Option</td>\n",
       "      <td>36.95</td>\n",
       "      <td>73.9</td>\n",
       "      <td>144.56</td>\n",
       "      <td>144.56</td>\n",
       "      <td>144.56</td>\n",
       "    </tr>\n",
       "    <tr>\n",
       "      <th>2</th>\n",
       "      <td>2014</td>\n",
       "      <td>AK</td>\n",
       "      <td>21989</td>\n",
       "      <td>2014-03-19 07:06:49</td>\n",
       "      <td>21989AK0020001</td>\n",
       "      <td>Family Option</td>\n",
       "      <td>36.95</td>\n",
       "      <td>73.9</td>\n",
       "      <td>144.56</td>\n",
       "      <td>144.56</td>\n",
       "      <td>144.56</td>\n",
       "    </tr>\n",
       "    <tr>\n",
       "      <th>5</th>\n",
       "      <td>2014</td>\n",
       "      <td>AK</td>\n",
       "      <td>21989</td>\n",
       "      <td>2014-03-19 07:06:49</td>\n",
       "      <td>21989AK0020001</td>\n",
       "      <td>Family Option</td>\n",
       "      <td>36.95</td>\n",
       "      <td>73.9</td>\n",
       "      <td>144.56</td>\n",
       "      <td>144.56</td>\n",
       "      <td>144.56</td>\n",
       "    </tr>\n",
       "  </tbody>\n",
       "</table>\n",
       "</div>"
      ],
      "text/plain": [
       "   BusinessYear StateCode  IssuerId          ImportDate          PlanId  \\\n",
       "1          2014        AK     21989 2014-03-19 07:06:49  21989AK0020001   \n",
       "2          2014        AK     21989 2014-03-19 07:06:49  21989AK0020001   \n",
       "5          2014        AK     21989 2014-03-19 07:06:49  21989AK0020001   \n",
       "\n",
       "             Age  IndividualRate  Couple  CoupleAndOneDependent  \\\n",
       "1  Family Option           36.95    73.9                 144.56   \n",
       "2  Family Option           36.95    73.9                 144.56   \n",
       "5  Family Option           36.95    73.9                 144.56   \n",
       "\n",
       "   CoupleAndTwoDependents  CoupleAndThreeOrMoreDependents  \n",
       "1                  144.56                          144.56  \n",
       "2                  144.56                          144.56  \n",
       "5                  144.56                          144.56  "
      ]
     },
     "execution_count": 54,
     "metadata": {},
     "output_type": "execute_result"
    }
   ],
   "source": [
    "RateData_FO.head(3)"
   ]
  },
  {
   "cell_type": "markdown",
   "metadata": {},
   "source": [
    "#### Train a Naive Bayes classifier on all our training data as follows and use the model for prediction:"
   ]
  },
  {
   "cell_type": "code",
   "execution_count": 55,
   "metadata": {
    "collapsed": false
   },
   "outputs": [
    {
     "data": {
      "text/plain": [
       "GaussianNB()"
      ]
     },
     "execution_count": 55,
     "metadata": {},
     "output_type": "execute_result"
    }
   ],
   "source": [
    "classifier = nb.fit(RateData_FO[['IndividualRate', 'Couple', 'CoupleAndOneDependent', 'CoupleAndTwoDependents', \n",
    "                        'CoupleAndThreeOrMoreDependents']], RateData_FO['StateCode'])\n",
    "classifier"
   ]
  },
  {
   "cell_type": "markdown",
   "metadata": {},
   "source": [
    "#### Find out how well our classifier learned the training dataset based on overall accuracy:"
   ]
  },
  {
   "cell_type": "code",
   "execution_count": 56,
   "metadata": {
    "collapsed": false
   },
   "outputs": [
    {
     "data": {
      "text/plain": [
       "0.15082679954080261"
      ]
     },
     "execution_count": 56,
     "metadata": {},
     "output_type": "execute_result"
    }
   ],
   "source": [
    "classifier.score(RateData_FO[['IndividualRate', 'Couple', 'CoupleAndOneDependent', 'CoupleAndTwoDependents', \n",
    "                        'CoupleAndThreeOrMoreDependents']], RateData_FO['StateCode'])"
   ]
  },
  {
   "cell_type": "markdown",
   "metadata": {},
   "source": [
    "#### Now we can use the classifier to classifier the state samples. First, the median rate values of the best state FL:"
   ]
  },
  {
   "cell_type": "code",
   "execution_count": 57,
   "metadata": {
    "collapsed": false
   },
   "outputs": [
    {
     "data": {
      "text/plain": [
       "IndividualRate                    24.19\n",
       "Couple                            30.45\n",
       "CoupleAndOneDependent             46.36\n",
       "CoupleAndTwoDependents            49.75\n",
       "CoupleAndThreeOrMoreDependents    53.44\n",
       "Name: FL, dtype: float64"
      ]
     },
     "execution_count": 57,
     "metadata": {},
     "output_type": "execute_result"
    }
   ],
   "source": [
    "StateMedRate.ix['FL', :5]"
   ]
  },
  {
   "cell_type": "code",
   "execution_count": 58,
   "metadata": {
    "collapsed": false
   },
   "outputs": [
    {
     "name": "stdout",
     "output_type": "stream",
     "text": [
      "This plan should be for FL State!\n"
     ]
    }
   ],
   "source": [
    "StateMedRate['Predicted State']=''\n",
    "StateMedRate.ix['FL', 'Predicted State']=classifier.predict([StateMedRate.ix['FL','IndividualRate'], \n",
    "                                                              StateMedRate.ix['FL','Couple'], \n",
    "                                                              StateMedRate.ix['FL','CoupleAndOneDependent'], \n",
    "                                                              StateMedRate.ix['FL','CoupleAndTwoDependents'], \n",
    "                                                              StateMedRate.ix['FL','CoupleAndThreeOrMoreDependents']])[0]\n",
    "print \"This plan should be for\", StateMedRate.ix['FL', 'Predicted State'], \"State!\""
   ]
  },
  {
   "cell_type": "markdown",
   "metadata": {},
   "source": [
    "#### Get the \"FL\" result. Then try the worst state NM:"
   ]
  },
  {
   "cell_type": "code",
   "execution_count": 59,
   "metadata": {
    "collapsed": false
   },
   "outputs": [
    {
     "data": {
      "text/plain": [
       "IndividualRate                       31.7\n",
       "Couple                               63.4\n",
       "CoupleAndOneDependent               86.31\n",
       "CoupleAndTwoDependents             108.41\n",
       "CoupleAndThreeOrMoreDependents    140.375\n",
       "Name: NM, dtype: object"
      ]
     },
     "execution_count": 59,
     "metadata": {},
     "output_type": "execute_result"
    }
   ],
   "source": [
    "StateMedRate.ix['NM', :5]"
   ]
  },
  {
   "cell_type": "code",
   "execution_count": 60,
   "metadata": {
    "collapsed": false
   },
   "outputs": [
    {
     "name": "stdout",
     "output_type": "stream",
     "text": [
      "This plan should be for NM State!\n"
     ]
    }
   ],
   "source": [
    "StateMedRate.ix['NM', 'Predicted State']=classifier.predict([StateMedRate.ix['NM','IndividualRate'], \n",
    "                                                              StateMedRate.ix['NM','Couple'], \n",
    "                                                              StateMedRate.ix['NM','CoupleAndOneDependent'], \n",
    "                                                              StateMedRate.ix['NM','CoupleAndTwoDependents'], \n",
    "                                                              StateMedRate.ix['NM','CoupleAndThreeOrMoreDependents']])[0]\n",
    "print \"This plan should be for\", StateMedRate.ix['NM', 'Predicted State'], \"State!\""
   ]
  },
  {
   "cell_type": "markdown",
   "metadata": {
    "collapsed": true
   },
   "source": [
    "#### The result is \"NM\"! So our Predictive model is good."
   ]
  },
  {
   "cell_type": "markdown",
   "metadata": {
    "collapsed": true
   },
   "source": [
    "## 4. Unsupervised Learning"
   ]
  },
  {
   "cell_type": "code",
   "execution_count": 61,
   "metadata": {
    "collapsed": true
   },
   "outputs": [],
   "source": [
    "import pandas as pd\n",
    "import matplotlib.pyplot as plt\n",
    "import matplotlib as mpl\n",
    "import numpy as np\n",
    "import math \n",
    "import mpld3\n",
    "from sklearn import preprocessing\n",
    "from sklearn import neighbors\n",
    "\n",
    "%matplotlib inline"
   ]
  },
  {
   "cell_type": "markdown",
   "metadata": {},
   "source": [
    "#### Use clustering to predict the State by rates:"
   ]
  },
  {
   "cell_type": "code",
   "execution_count": 62,
   "metadata": {
    "collapsed": false
   },
   "outputs": [
    {
     "data": {
      "text/html": [
       "<div>\n",
       "<table border=\"1\" class=\"dataframe\">\n",
       "  <thead>\n",
       "    <tr style=\"text-align: right;\">\n",
       "      <th></th>\n",
       "      <th>BusinessYear</th>\n",
       "      <th>StateCode</th>\n",
       "      <th>IssuerId</th>\n",
       "      <th>ImportDate</th>\n",
       "      <th>PlanId</th>\n",
       "      <th>Age</th>\n",
       "      <th>IndividualRate</th>\n",
       "      <th>Couple</th>\n",
       "      <th>CoupleAndOneDependent</th>\n",
       "      <th>CoupleAndTwoDependents</th>\n",
       "      <th>CoupleAndThreeOrMoreDependents</th>\n",
       "    </tr>\n",
       "  </thead>\n",
       "  <tbody>\n",
       "    <tr>\n",
       "      <th>1</th>\n",
       "      <td>2014</td>\n",
       "      <td>AK</td>\n",
       "      <td>21989</td>\n",
       "      <td>2014-03-19 07:06:49</td>\n",
       "      <td>21989AK0020001</td>\n",
       "      <td>Family Option</td>\n",
       "      <td>36.95</td>\n",
       "      <td>73.9</td>\n",
       "      <td>144.56</td>\n",
       "      <td>144.56</td>\n",
       "      <td>144.56</td>\n",
       "    </tr>\n",
       "    <tr>\n",
       "      <th>2</th>\n",
       "      <td>2014</td>\n",
       "      <td>AK</td>\n",
       "      <td>21989</td>\n",
       "      <td>2014-03-19 07:06:49</td>\n",
       "      <td>21989AK0020001</td>\n",
       "      <td>Family Option</td>\n",
       "      <td>36.95</td>\n",
       "      <td>73.9</td>\n",
       "      <td>144.56</td>\n",
       "      <td>144.56</td>\n",
       "      <td>144.56</td>\n",
       "    </tr>\n",
       "    <tr>\n",
       "      <th>5</th>\n",
       "      <td>2014</td>\n",
       "      <td>AK</td>\n",
       "      <td>21989</td>\n",
       "      <td>2014-03-19 07:06:49</td>\n",
       "      <td>21989AK0020001</td>\n",
       "      <td>Family Option</td>\n",
       "      <td>36.95</td>\n",
       "      <td>73.9</td>\n",
       "      <td>144.56</td>\n",
       "      <td>144.56</td>\n",
       "      <td>144.56</td>\n",
       "    </tr>\n",
       "  </tbody>\n",
       "</table>\n",
       "</div>"
      ],
      "text/plain": [
       "   BusinessYear StateCode  IssuerId          ImportDate          PlanId  \\\n",
       "1          2014        AK     21989 2014-03-19 07:06:49  21989AK0020001   \n",
       "2          2014        AK     21989 2014-03-19 07:06:49  21989AK0020001   \n",
       "5          2014        AK     21989 2014-03-19 07:06:49  21989AK0020001   \n",
       "\n",
       "             Age  IndividualRate  Couple  CoupleAndOneDependent  \\\n",
       "1  Family Option           36.95    73.9                 144.56   \n",
       "2  Family Option           36.95    73.9                 144.56   \n",
       "5  Family Option           36.95    73.9                 144.56   \n",
       "\n",
       "   CoupleAndTwoDependents  CoupleAndThreeOrMoreDependents  \n",
       "1                  144.56                          144.56  \n",
       "2                  144.56                          144.56  \n",
       "5                  144.56                          144.56  "
      ]
     },
     "execution_count": 62,
     "metadata": {},
     "output_type": "execute_result"
    }
   ],
   "source": [
    "RateData_FO.head(3)"
   ]
  },
  {
   "cell_type": "markdown",
   "metadata": {},
   "source": [
    "#### Import KMeans:"
   ]
  },
  {
   "cell_type": "code",
   "execution_count": 63,
   "metadata": {
    "collapsed": true
   },
   "outputs": [],
   "source": [
    "from sklearn.cluster import KMeans\n",
    "from sklearn import preprocessing"
   ]
  },
  {
   "cell_type": "markdown",
   "metadata": {},
   "source": [
    "#### Because there are 50 states, make n_clusters = 50:"
   ]
  },
  {
   "cell_type": "code",
   "execution_count": 64,
   "metadata": {
    "collapsed": true
   },
   "outputs": [],
   "source": [
    "km = KMeans(n_clusters=50, init='random')"
   ]
  },
  {
   "cell_type": "markdown",
   "metadata": {},
   "source": [
    "#### Then fit:"
   ]
  },
  {
   "cell_type": "code",
   "execution_count": 65,
   "metadata": {
    "collapsed": false
   },
   "outputs": [
    {
     "data": {
      "text/plain": [
       "KMeans(copy_x=True, init='random', max_iter=300, n_clusters=50, n_init=10,\n",
       "    n_jobs=1, precompute_distances='auto', random_state=None, tol=0.0001,\n",
       "    verbose=0)"
      ]
     },
     "execution_count": 65,
     "metadata": {},
     "output_type": "execute_result"
    }
   ],
   "source": [
    "km.fit(RateData_FO[['IndividualRate', 'Couple', 'CoupleAndOneDependent', 'CoupleAndTwoDependents', 'CoupleAndThreeOrMoreDependents']].values)"
   ]
  },
  {
   "cell_type": "markdown",
   "metadata": {},
   "source": [
    "#### Get the predictions:"
   ]
  },
  {
   "cell_type": "code",
   "execution_count": 66,
   "metadata": {
    "collapsed": false
   },
   "outputs": [
    {
     "data": {
      "text/plain": [
       "array([45, 45, 45, ..., 21, 21, 21])"
      ]
     },
     "execution_count": 66,
     "metadata": {},
     "output_type": "execute_result"
    }
   ],
   "source": [
    "predictions = km.predict(RateData_FO[['IndividualRate', 'Couple', 'CoupleAndOneDependent', 'CoupleAndTwoDependents', 'CoupleAndThreeOrMoreDependents']].values)\n",
    "predictions"
   ]
  },
  {
   "cell_type": "markdown",
   "metadata": {},
   "source": [
    "#### Because my computer memory is only 8G, I cannot handle the score below:"
   ]
  },
  {
   "cell_type": "code",
   "execution_count": 67,
   "metadata": {
    "collapsed": false
   },
   "outputs": [],
   "source": [
    "#from sklearn import metrics\n",
    "#metrics.silhouette_score(RateData_FO[['IndividualRate', 'Couple', 'CoupleAndOneDependent', 'CoupleAndTwoDependents', 'CoupleAndThreeOrMoreDependents']], predictions)"
   ]
  },
  {
   "cell_type": "markdown",
   "metadata": {
    "collapsed": true
   },
   "source": [
    "# Summary"
   ]
  },
  {
   "cell_type": "markdown",
   "metadata": {},
   "source": [
    "### The data in this report comes from CMS. After data wangling, I tried to analyse the dataset and predicted some problems. There is summery:\n",
    "### 1. Used KDE and CDF to find the distribution of family out-of-pocket cost limits .\n",
    "### 2. Analysed the state rates, and found that there are fewer plan choices in DE, AK and MS states, the rates of which are much more expensive. You can find why the competition is very important in the health insurance market.\n",
    "### 3. Used kNN to predict the Couple Rate by Individual Rate.\n",
    "### 4. Used Naive Bayes and Cluster Modelling to predict State by Rates."
   ]
  },
  {
   "cell_type": "markdown",
   "metadata": {},
   "source": [
    "# Thnak you!"
   ]
  }
 ],
 "metadata": {
  "kernelspec": {
   "display_name": "Python 2",
   "language": "python",
   "name": "python2"
  },
  "language_info": {
   "codemirror_mode": {
    "name": "ipython",
    "version": 2
   },
   "file_extension": ".py",
   "mimetype": "text/x-python",
   "name": "python",
   "nbconvert_exporter": "python",
   "pygments_lexer": "ipython2",
   "version": "2.7.10"
  }
 },
 "nbformat": 4,
 "nbformat_minor": 0
}
